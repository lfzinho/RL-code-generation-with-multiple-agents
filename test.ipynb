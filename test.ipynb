{
 "cells": [
  {
   "cell_type": "code",
   "execution_count": 4,
   "metadata": {},
   "outputs": [
    {
     "data": {
      "application/vnd.jupyter.widget-view+json": {
       "model_id": "581045cb5c3a4485946a3cad76b3b1a0",
       "version_major": 2,
       "version_minor": 0
      },
      "text/plain": [
       "Process:   0%|          | 0/10 [00:00<?, ?it/s]"
      ]
     },
     "metadata": {},
     "output_type": "display_data"
    },
    {
     "data": {
      "application/vnd.jupyter.widget-view+json": {
       "model_id": "af7a31880a7649458e018cd54c5a70ee",
       "version_major": 2,
       "version_minor": 0
      },
      "text/plain": [
       "Subprocess:   0%|          | 0/10 [00:00<?, ?it/s]"
      ]
     },
     "metadata": {},
     "output_type": "display_data"
    },
    {
     "data": {
      "application/vnd.jupyter.widget-view+json": {
       "model_id": "631a04a7714e4bf0b36e63b8874a6667",
       "version_major": 2,
       "version_minor": 0
      },
      "text/plain": [
       "Subprocess:   0%|          | 0/10 [00:00<?, ?it/s]"
      ]
     },
     "metadata": {},
     "output_type": "display_data"
    },
    {
     "data": {
      "application/vnd.jupyter.widget-view+json": {
       "model_id": "f98388b705de46619e20de38606c4a1f",
       "version_major": 2,
       "version_minor": 0
      },
      "text/plain": [
       "Subprocess:   0%|          | 0/10 [00:00<?, ?it/s]"
      ]
     },
     "metadata": {},
     "output_type": "display_data"
    },
    {
     "data": {
      "application/vnd.jupyter.widget-view+json": {
       "model_id": "ef7ced3376d142329a52fe547e27096b",
       "version_major": 2,
       "version_minor": 0
      },
      "text/plain": [
       "Subprocess:   0%|          | 0/10 [00:00<?, ?it/s]"
      ]
     },
     "metadata": {},
     "output_type": "display_data"
    },
    {
     "data": {
      "application/vnd.jupyter.widget-view+json": {
       "model_id": "04d015cad2aa4a7ab1609ee18c977fe9",
       "version_major": 2,
       "version_minor": 0
      },
      "text/plain": [
       "Subprocess:   0%|          | 0/10 [00:00<?, ?it/s]"
      ]
     },
     "metadata": {},
     "output_type": "display_data"
    },
    {
     "data": {
      "application/vnd.jupyter.widget-view+json": {
       "model_id": "7b60b97e895a4937b17e8ccc25eddc14",
       "version_major": 2,
       "version_minor": 0
      },
      "text/plain": [
       "Subprocess:   0%|          | 0/10 [00:00<?, ?it/s]"
      ]
     },
     "metadata": {},
     "output_type": "display_data"
    },
    {
     "data": {
      "application/vnd.jupyter.widget-view+json": {
       "model_id": "10bb5a2fd15541c88a0df20b15425161",
       "version_major": 2,
       "version_minor": 0
      },
      "text/plain": [
       "Subprocess:   0%|          | 0/10 [00:00<?, ?it/s]"
      ]
     },
     "metadata": {},
     "output_type": "display_data"
    },
    {
     "data": {
      "application/vnd.jupyter.widget-view+json": {
       "model_id": "4f49f98fa5a34471afe2c248370d68a6",
       "version_major": 2,
       "version_minor": 0
      },
      "text/plain": [
       "Subprocess:   0%|          | 0/10 [00:00<?, ?it/s]"
      ]
     },
     "metadata": {},
     "output_type": "display_data"
    },
    {
     "data": {
      "application/vnd.jupyter.widget-view+json": {
       "model_id": "a373e34e31384c01949c1053536df487",
       "version_major": 2,
       "version_minor": 0
      },
      "text/plain": [
       "Subprocess:   0%|          | 0/10 [00:00<?, ?it/s]"
      ]
     },
     "metadata": {},
     "output_type": "display_data"
    },
    {
     "data": {
      "application/vnd.jupyter.widget-view+json": {
       "model_id": "a66b787b728f4feabf92cb021c9a3cb8",
       "version_major": 2,
       "version_minor": 0
      },
      "text/plain": [
       "Subprocess:   0%|          | 0/10 [00:00<?, ?it/s]"
      ]
     },
     "metadata": {},
     "output_type": "display_data"
    }
   ],
   "source": [
    "from tqdm.notebook import trange, tqdm\n",
    "import time\n",
    "\n",
    "for i in tqdm(range(10), desc='Process'):\n",
    "    for j in tqdm(range(10), desc='Subprocess', leave=False):\n",
    "        time.sleep(0.1)"
   ]
  }
 ],
 "metadata": {
  "kernelspec": {
   "display_name": ".venv",
   "language": "python",
   "name": "python3"
  },
  "language_info": {
   "codemirror_mode": {
    "name": "ipython",
    "version": 3
   },
   "file_extension": ".py",
   "mimetype": "text/x-python",
   "name": "python",
   "nbconvert_exporter": "python",
   "pygments_lexer": "ipython3",
   "version": "3.12.7"
  }
 },
 "nbformat": 4,
 "nbformat_minor": 2
}
