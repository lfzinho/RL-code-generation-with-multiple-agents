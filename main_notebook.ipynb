{
 "cells": [
  {
   "cell_type": "code",
   "execution_count": 7,
   "metadata": {},
   "outputs": [],
   "source": [
    "import json\n",
    "import pickle\n",
    "import pandas as pd\n",
    "from tqdm.notebook import trange, tqdm\n",
    "from conversation import create_coder, create_reviewer, create_refiner, start_conversation"
   ]
  },
  {
   "cell_type": "markdown",
   "metadata": {},
   "source": [
    "# Trabalho de RL - Qual o Melhor Prompt para Iterar sobre a Geração de Código?\n",
    "Nosso trabalho de RL é sobre descobrir quais os melhores prompts para iterar sobre a geração de \n",
    "código de LLMs.\n",
    "\n",
    "## Como funciona\n",
    "Criamos uma conversa com 3 participantes: Coder, Reviewer e Refiner.\n",
    "Cada participante é responsável por enviar um prompt para o LLM, e inputar os resultados do LLM no\n",
    "ambiente (aqui chamado de 'conversa').\n",
    "\n",
    "### Coder\n",
    "O Coder é responsável por escrever o código.  \n",
    "Ele envia o prompt inicial, descrevendo o problema a ser resolvido. Definimos que todos os nossos\n",
    "problemas serão de limpeza de uma base de dados csv.  \n",
    "O Coder só participa da conversa 1 vez (no início) e, por isso, não o definimos como um agente RL.\n",
    "Ao invés disso, ele é programado para iterar por todos os prompts n vezes, e avaliamos os resultados\n",
    "das conversas com cada prompt inicial posteriormente.\n",
    "\n",
    "### Reviewer\n",
    "O Reviewer é responsável por avaliar o código gerado pelo LLM.  \n",
    "Ele envia um prompt solicitando a avaliação do código gerado pelo LLM. Ele pode essa avaliação\n",
    "sempre após a geração de um código que não tem nota superior à nota terminal.  \n",
    "O Reviewer é um agente RL, e seu objetivo é maximizar a nota do código gerado pelo LLM.\n",
    "\n",
    "### Refiner\n",
    "O Refiner é responsável por refinar o código gerado pelo LLM.\n",
    "Ele envia um prompt solicitando a melhoria do código gerado pelo LLM. Ele pode essa avaliação\n",
    "sempre após uma revisão do Reviewer.  \n",
    "O Refiner é um agente RL, e seu objetivo é maximizar a nota do código gerado pelo LLM.\n",
    "\n",
    "### Prompt\n",
    "Para cada participante, geramos prompts que iam de 1 a $n$ nas **escalas** das seguintes **propriedades**:\n",
    "- Clareza;\n",
    "- Comprimento;\n",
    "- Especificidade, e\n",
    "- Complexidade.\n",
    "\n",
    "Isso totalizou até 20 prompts diferentes para cada participante. Para diminuir o espaço de ações,\n",
    "optamos por usar uma estratégia mais simples:\n",
    "\n",
    "- Para cada prompt (**comprimento da escala** x **número de propriedades**) do **Coder**;\n",
    "    - Para cada **propriedade** do **Reviewer**;\n",
    "        - Para cada **propriedade** do **Refiner**;\n",
    "            - Geramos $m$ conversas onde:\n",
    "                1. O Coder envia o prompt e adiciona o código inicial;\n",
    "                2. O código é avaliado (se a nota não for terminal, prossegue);\n",
    "                3. O Reviewer escolhe um dos $n$ prompts da **propriedade** e adiciona a revisão;\n",
    "                4. O Refiner escolhe um dos $n$ prompts da **propriedade** e adiciona a melhoria.\n",
    "                5. Se o comprimento da conversa não for terminal, volta ao passo 2.\n",
    "\n",
    "### Avaliação do Código\n",
    "O código é avaliado por um LLM usando a bibliteca `instructor`. Pedimos que o código receba uma nota\n",
    "de 0 a 100 para a sua corretude e legibilidade, bem como uma curta explicação do porquê da nota \n",
    "(esse comentário é adicionado posteriormente à conversa).  \n",
    "Se a nota média for superior a 95, a conversa é terminada pois consideramos que o código é bom o\n",
    "suficiente."
   ]
  },
  {
   "cell_type": "code",
   "execution_count": 8,
   "metadata": {},
   "outputs": [],
   "source": [
    "# List with JSON files name\n",
    "json_files_coder = [\n",
    "    \"json_files/prompts_clarity_coder.json\",\n",
    "    \"json_files/prompts_size_coder.json\",\n",
    "    \"json_files/prompts_specificity_coder.json\",\n",
    "    \"json_files/prompts_complexity_coder.json\"\n",
    "]\n",
    "\n",
    "json_files_reviewer = [\n",
    "    \"json_files/prompts_clarity_reviewer.json\",\n",
    "    \"json_files/prompts_size_reviewer.json\",\n",
    "    \"json_files/prompts_specificity_reviewer.json\",\n",
    "    \"json_files/prompts_complexity_reviewer.json\"\n",
    "]\n",
    "\n",
    "json_files_refiner = [\n",
    "    \"json_files/prompts_prop1_refiner.json\",\n",
    "    \"json_files/prompts_prop2_refiner.json\",\n",
    "    \"json_files/prompts_prop3_refiner.json\",\n",
    "    \"json_files/prompts_prop4_refiner.json\"\n",
    "]\n",
    "\n",
    "prompts_coder = []\n",
    "for file_name in json_files_coder:\n",
    "    with open(file_name, \"r\", encoding=\"utf-8\") as file:\n",
    "        data = json.load(file)\n",
    "        for i, item in enumerate(data):\n",
    "            item[\"index\"] = i\n",
    "        prompts_coder += data\n",
    "\n",
    "reviewer_properties = {}    \n",
    "for file_name in json_files_reviewer:\n",
    "    with open(file_name, \"r\", encoding=\"utf-8\") as file:\n",
    "        data = json.load(file)\n",
    "        for item in data:\n",
    "            if item[\"propriedade\"] not in reviewer_properties:\n",
    "                reviewer_properties[item[\"propriedade\"]] = []\n",
    "            reviewer_properties[item[\"propriedade\"]].append(item['prompt'])\n",
    "\n",
    "refiner_properties = {}\n",
    "for file_name in json_files_coder:\n",
    "    with open(file_name, \"r\", encoding=\"utf-8\") as file:\n",
    "        data = json.load(file)\n",
    "        for item in data:\n",
    "            if item[\"propriedade\"] not in refiner_properties:\n",
    "                refiner_properties[item[\"propriedade\"]] = []\n",
    "            refiner_properties[item[\"propriedade\"]].append(item['prompt'])                      "
   ]
  },
  {
   "cell_type": "code",
   "execution_count": null,
   "metadata": {},
   "outputs": [
    {
     "name": "stdout",
     "output_type": "stream",
     "text": [
      "Combination 1/320\r"
     ]
    },
    {
     "data": {
      "application/vnd.jupyter.widget-view+json": {
       "model_id": "00f7910376ae43778eb7c0509c750675",
       "version_major": 2,
       "version_minor": 0
      },
      "text/plain": [
       "Conversations:   0%|          | 0/2 [00:00<?, ?it/s]"
      ]
     },
     "metadata": {},
     "output_type": "display_data"
    },
    {
     "data": {
      "application/vnd.jupyter.widget-view+json": {
       "model_id": "436f8054cd9543069214c4f7a7bfa4e9",
       "version_major": 2,
       "version_minor": 0
      },
      "text/plain": [
       "Conv. turns:   0%|          | 0/3 [00:00<?, ?it/s]"
      ]
     },
     "metadata": {},
     "output_type": "display_data"
    },
    {
     "data": {
      "application/vnd.jupyter.widget-view+json": {
       "model_id": "1414982d8f814c51a3eb6aba07360ce4",
       "version_major": 2,
       "version_minor": 0
      },
      "text/plain": [
       "Conv. turns:   0%|          | 0/3 [00:00<?, ?it/s]"
      ]
     },
     "metadata": {},
     "output_type": "display_data"
    },
    {
     "name": "stdout",
     "output_type": "stream",
     "text": [
      "Combination 2/320\r"
     ]
    },
    {
     "data": {
      "application/vnd.jupyter.widget-view+json": {
       "model_id": "71e60dbfab514c6c91f12ee6dee600a9",
       "version_major": 2,
       "version_minor": 0
      },
      "text/plain": [
       "Conversations:   0%|          | 0/2 [00:00<?, ?it/s]"
      ]
     },
     "metadata": {},
     "output_type": "display_data"
    },
    {
     "data": {
      "application/vnd.jupyter.widget-view+json": {
       "model_id": "6e63c4c72b46453498b744965370fac5",
       "version_major": 2,
       "version_minor": 0
      },
      "text/plain": [
       "Conv. turns:   0%|          | 0/3 [00:00<?, ?it/s]"
      ]
     },
     "metadata": {},
     "output_type": "display_data"
    },
    {
     "data": {
      "application/vnd.jupyter.widget-view+json": {
       "model_id": "e26c9cbf88f24dc0a6d51d3a8ccc49a0",
       "version_major": 2,
       "version_minor": 0
      },
      "text/plain": [
       "Conv. turns:   0%|          | 0/3 [00:00<?, ?it/s]"
      ]
     },
     "metadata": {},
     "output_type": "display_data"
    },
    {
     "name": "stdout",
     "output_type": "stream",
     "text": [
      "Combination 3/320\r"
     ]
    },
    {
     "data": {
      "application/vnd.jupyter.widget-view+json": {
       "model_id": "bdd2d3c608b34856a4bc597cedad7c65",
       "version_major": 2,
       "version_minor": 0
      },
      "text/plain": [
       "Conversations:   0%|          | 0/2 [00:00<?, ?it/s]"
      ]
     },
     "metadata": {},
     "output_type": "display_data"
    },
    {
     "data": {
      "application/vnd.jupyter.widget-view+json": {
       "model_id": "1c889500605e4e82809a0520d64e58e3",
       "version_major": 2,
       "version_minor": 0
      },
      "text/plain": [
       "Conv. turns:   0%|          | 0/3 [00:00<?, ?it/s]"
      ]
     },
     "metadata": {},
     "output_type": "display_data"
    },
    {
     "data": {
      "application/vnd.jupyter.widget-view+json": {
       "model_id": "b1bef60221f24ea2b08c24af225f975e",
       "version_major": 2,
       "version_minor": 0
      },
      "text/plain": [
       "Conv. turns:   0%|          | 0/3 [00:00<?, ?it/s]"
      ]
     },
     "metadata": {},
     "output_type": "display_data"
    },
    {
     "name": "stdout",
     "output_type": "stream",
     "text": [
      "Conversation Skipped: 1 validation error for CodeEvaluation\n",
      "is_code_saving_csv\n",
      "  Field required [type=missing, input_value={'is_code_functional': Tr...e efficiently? 90/100!'}, input_type=dict]\n",
      "    For further information visit https://errors.pydantic.dev/2.9/v/missing\n",
      "Combination 4/320\r"
     ]
    },
    {
     "data": {
      "application/vnd.jupyter.widget-view+json": {
       "model_id": "e70d4889b13647db8cc802c58ea1a936",
       "version_major": 2,
       "version_minor": 0
      },
      "text/plain": [
       "Conversations:   0%|          | 0/2 [00:00<?, ?it/s]"
      ]
     },
     "metadata": {},
     "output_type": "display_data"
    },
    {
     "data": {
      "application/vnd.jupyter.widget-view+json": {
       "model_id": "d98bb79133b84f59a2564d90a9da6a77",
       "version_major": 2,
       "version_minor": 0
      },
      "text/plain": [
       "Conv. turns:   0%|          | 0/3 [00:00<?, ?it/s]"
      ]
     },
     "metadata": {},
     "output_type": "display_data"
    },
    {
     "data": {
      "application/vnd.jupyter.widget-view+json": {
       "model_id": "708bfb723a834ca29b2c3123c61fe3fb",
       "version_major": 2,
       "version_minor": 0
      },
      "text/plain": [
       "Conv. turns:   0%|          | 0/3 [00:00<?, ?it/s]"
      ]
     },
     "metadata": {},
     "output_type": "display_data"
    },
    {
     "name": "stdout",
     "output_type": "stream",
     "text": [
      "Conversation Skipped: 9 validation errors for CodeEvaluation\n",
      "is_code_functional\n",
      "  Field required [type=missing, input_value={}, input_type=dict]\n",
      "    For further information visit https://errors.pydantic.dev/2.9/v/missing\n",
      "is_code_consise\n",
      "  Field required [type=missing, input_value={}, input_type=dict]\n",
      "    For further information visit https://errors.pydantic.dev/2.9/v/missing\n",
      "is_code_easily_readable\n",
      "  Field required [type=missing, input_value={}, input_type=dict]\n",
      "    For further information visit https://errors.pydantic.dev/2.9/v/missing\n",
      "is_code_documented\n",
      "  Field required [type=missing, input_value={}, input_type=dict]\n",
      "    For further information visit https://errors.pydantic.dev/2.9/v/missing\n",
      "is_csv_path_correct\n",
      "  Field required [type=missing, input_value={}, input_type=dict]\n",
      "    For further information visit https://errors.pydantic.dev/2.9/v/missing\n",
      "is_code_all_grouped\n",
      "  Field required [type=missing, input_value={}, input_type=dict]\n",
      "    For further information visit https://errors.pydantic.dev/2.9/v/missing\n",
      "is_code_saving_csv\n",
      "  Field required [type=missing, input_value={}, input_type=dict]\n",
      "    For further information visit https://errors.pydantic.dev/2.9/v/missing\n",
      "overall_grade\n",
      "  Field required [type=missing, input_value={}, input_type=dict]\n",
      "    For further information visit https://errors.pydantic.dev/2.9/v/missing\n",
      "explanation\n",
      "  Field required [type=missing, input_value={}, input_type=dict]\n",
      "    For further information visit https://errors.pydantic.dev/2.9/v/missing\n",
      "Combination 5/320\r"
     ]
    },
    {
     "data": {
      "application/vnd.jupyter.widget-view+json": {
       "model_id": "27b695ae96f24947abfb01c722fb7da9",
       "version_major": 2,
       "version_minor": 0
      },
      "text/plain": [
       "Conversations:   0%|          | 0/2 [00:00<?, ?it/s]"
      ]
     },
     "metadata": {},
     "output_type": "display_data"
    },
    {
     "data": {
      "application/vnd.jupyter.widget-view+json": {
       "model_id": "cff781761f3d4370b2b8c7c68ace0aed",
       "version_major": 2,
       "version_minor": 0
      },
      "text/plain": [
       "Conv. turns:   0%|          | 0/3 [00:00<?, ?it/s]"
      ]
     },
     "metadata": {},
     "output_type": "display_data"
    },
    {
     "data": {
      "application/vnd.jupyter.widget-view+json": {
       "model_id": "72d61e3199f848b49a8a822136744794",
       "version_major": 2,
       "version_minor": 0
      },
      "text/plain": [
       "Conv. turns:   0%|          | 0/3 [00:00<?, ?it/s]"
      ]
     },
     "metadata": {},
     "output_type": "display_data"
    },
    {
     "name": "stdout",
     "output_type": "stream",
     "text": [
      "Combination 6/320\r"
     ]
    },
    {
     "data": {
      "application/vnd.jupyter.widget-view+json": {
       "model_id": "93704a6d5c6f46ffb80122b21436aefb",
       "version_major": 2,
       "version_minor": 0
      },
      "text/plain": [
       "Conversations:   0%|          | 0/2 [00:00<?, ?it/s]"
      ]
     },
     "metadata": {},
     "output_type": "display_data"
    },
    {
     "data": {
      "application/vnd.jupyter.widget-view+json": {
       "model_id": "cb1986b4b930476b91e66232b80c09e5",
       "version_major": 2,
       "version_minor": 0
      },
      "text/plain": [
       "Conv. turns:   0%|          | 0/3 [00:00<?, ?it/s]"
      ]
     },
     "metadata": {},
     "output_type": "display_data"
    },
    {
     "data": {
      "application/vnd.jupyter.widget-view+json": {
       "model_id": "4c679feb1c644a759a75257363c942fe",
       "version_major": 2,
       "version_minor": 0
      },
      "text/plain": [
       "Conv. turns:   0%|          | 0/3 [00:00<?, ?it/s]"
      ]
     },
     "metadata": {},
     "output_type": "display_data"
    },
    {
     "name": "stdout",
     "output_type": "stream",
     "text": [
      "Conversation Skipped: 1 validation error for CodeEvaluation\n",
      "is_csv_path_correct\n",
      "  Input should be a valid boolean [type=bool_type, input_value='Valid boolean input', input_type=str]\n",
      "    For further information visit https://errors.pydantic.dev/2.9/v/bool_type\n",
      "Combination 7/320\r"
     ]
    },
    {
     "data": {
      "application/vnd.jupyter.widget-view+json": {
       "model_id": "9e73164a06f446d9b748da6479378a74",
       "version_major": 2,
       "version_minor": 0
      },
      "text/plain": [
       "Conversations:   0%|          | 0/2 [00:00<?, ?it/s]"
      ]
     },
     "metadata": {},
     "output_type": "display_data"
    },
    {
     "data": {
      "application/vnd.jupyter.widget-view+json": {
       "model_id": "c3e54b0e132641c189795941712f2cd1",
       "version_major": 2,
       "version_minor": 0
      },
      "text/plain": [
       "Conv. turns:   0%|          | 0/3 [00:00<?, ?it/s]"
      ]
     },
     "metadata": {},
     "output_type": "display_data"
    },
    {
     "data": {
      "application/vnd.jupyter.widget-view+json": {
       "model_id": "a87d995ce45340fa9b926f0cd8730181",
       "version_major": 2,
       "version_minor": 0
      },
      "text/plain": [
       "Conv. turns:   0%|          | 0/3 [00:00<?, ?it/s]"
      ]
     },
     "metadata": {},
     "output_type": "display_data"
    },
    {
     "name": "stdout",
     "output_type": "stream",
     "text": [
      "Conversation Skipped: 1 validation error for CodeEvaluation\n",
      "  Invalid JSON: EOF while parsing a value at line 1 column 0 [type=json_invalid, input_value='', input_type=str]\n",
      "    For further information visit https://errors.pydantic.dev/2.9/v/json_invalid\n",
      "Combination 8/320\r"
     ]
    },
    {
     "data": {
      "application/vnd.jupyter.widget-view+json": {
       "model_id": "e47b6f6422354528bbc9e7b498307496",
       "version_major": 2,
       "version_minor": 0
      },
      "text/plain": [
       "Conversations:   0%|          | 0/2 [00:00<?, ?it/s]"
      ]
     },
     "metadata": {},
     "output_type": "display_data"
    },
    {
     "data": {
      "application/vnd.jupyter.widget-view+json": {
       "model_id": "c16eb0ccb54d4f38b4bd0aeed87caea3",
       "version_major": 2,
       "version_minor": 0
      },
      "text/plain": [
       "Conv. turns:   0%|          | 0/3 [00:00<?, ?it/s]"
      ]
     },
     "metadata": {},
     "output_type": "display_data"
    },
    {
     "data": {
      "application/vnd.jupyter.widget-view+json": {
       "model_id": "8ae81872d2c040ed916971f27f8b0e41",
       "version_major": 2,
       "version_minor": 0
      },
      "text/plain": [
       "Conv. turns:   0%|          | 0/3 [00:00<?, ?it/s]"
      ]
     },
     "metadata": {},
     "output_type": "display_data"
    },
    {
     "name": "stdout",
     "output_type": "stream",
     "text": [
      "Combination 9/320\r"
     ]
    },
    {
     "data": {
      "application/vnd.jupyter.widget-view+json": {
       "model_id": "316cb54a738340f89e9204b1a4294bbe",
       "version_major": 2,
       "version_minor": 0
      },
      "text/plain": [
       "Conversations:   0%|          | 0/2 [00:00<?, ?it/s]"
      ]
     },
     "metadata": {},
     "output_type": "display_data"
    },
    {
     "data": {
      "application/vnd.jupyter.widget-view+json": {
       "model_id": "5483401ddbe84ff885013c6de228feb1",
       "version_major": 2,
       "version_minor": 0
      },
      "text/plain": [
       "Conv. turns:   0%|          | 0/3 [00:00<?, ?it/s]"
      ]
     },
     "metadata": {},
     "output_type": "display_data"
    },
    {
     "data": {
      "application/vnd.jupyter.widget-view+json": {
       "model_id": "7ca807e4aede428288cdc002492a4ed1",
       "version_major": 2,
       "version_minor": 0
      },
      "text/plain": [
       "Conv. turns:   0%|          | 0/3 [00:00<?, ?it/s]"
      ]
     },
     "metadata": {},
     "output_type": "display_data"
    },
    {
     "name": "stdout",
     "output_type": "stream",
     "text": [
      "Combination 10/320\r"
     ]
    },
    {
     "data": {
      "application/vnd.jupyter.widget-view+json": {
       "model_id": "07b47b7385914a47a87627116fe6f892",
       "version_major": 2,
       "version_minor": 0
      },
      "text/plain": [
       "Conversations:   0%|          | 0/2 [00:00<?, ?it/s]"
      ]
     },
     "metadata": {},
     "output_type": "display_data"
    },
    {
     "data": {
      "application/vnd.jupyter.widget-view+json": {
       "model_id": "3c563965b5fa4f8aa757156ec47a9d16",
       "version_major": 2,
       "version_minor": 0
      },
      "text/plain": [
       "Conv. turns:   0%|          | 0/3 [00:00<?, ?it/s]"
      ]
     },
     "metadata": {},
     "output_type": "display_data"
    }
   ],
   "source": [
    "from IPython.display import display, Markdown\n",
    "from rl.code_evaluator import CodeEvaluator\n",
    "\n",
    "\n",
    "MAX_TURNS = 3\n",
    "TOT_CONVERSATIONS = 2\n",
    "coder = create_coder(prompts_coder)\n",
    "\n",
    "starting_i = 0\n",
    "final_i = 1\n",
    "comb = starting_i * len(reviewer_properties) * len(refiner_properties)\n",
    "total_combs = len(prompts_coder) * len(reviewer_properties) * len(refiner_properties)\n",
    "for i, coder_prompt_dict in enumerate(prompts_coder):\n",
    "    if i < starting_i:  # Resume from a specific index\n",
    "        continue\n",
    "    if i > final_i:  # Pause at a specific index\n",
    "        break\n",
    "    for j, (rev_prop, rev_prompts) in enumerate(reviewer_properties.items()):\n",
    "        for k, (ref_prop, ref_prompts) in enumerate(refiner_properties.items()):\n",
    "            reviewer = create_reviewer(rev_prompts)\n",
    "            refiner = create_refiner(ref_prompts)\n",
    "            evaluator = CodeEvaluator(environment=None, prompt=\"Evaluate the code quality\", name=\"Code Evaluator\")\n",
    "            \n",
    "            comb += 1\n",
    "            print(f\"Combination {comb}/{total_combs}\", end=\"\\r\")\n",
    "            for l in tqdm(range(TOT_CONVERSATIONS), desc=\"Conversations\", position=0, leave=False):\n",
    "                try:\n",
    "                    environment = start_conversation(\n",
    "                        coder, \n",
    "                        coder_prompt_dict, \n",
    "                        reviewer, \n",
    "                        refiner, \n",
    "                        MAX_TURNS\n",
    "                    )\n",
    "                except Exception as e:\n",
    "                   print(f\"Conversation Skipped: {e}\")\n",
    "                # Salva a conversa\n",
    "                with open(f\"conversations/conv_{i}_{j}_{k}_{l}.md\", \"w\", encoding=\"utf-8\") as file:\n",
    "                    for message in environment.messages:\n",
    "                        file.write(f\"**{message['role']}**: {message['content']}\\n\")\n",
    "\n",
    "            # Salva os modelos\n",
    "            with open(f\"models/reviewer_{i}_{j}_{k}.pkl\", \"wb\") as file:\n",
    "                pickle.dump(reviewer, file)\n",
    "            with open(f\"models/refiner_{i}_{j}_{k}.pkl\", \"wb\") as file:\n",
    "                pickle.dump(refiner, file)\n",
    "\n",
    "with open(f\"models/coder.pkl\", \"wb\") as file:\n",
    "    pickle.dump(coder, file)\n"
   ]
  }
 ],
 "metadata": {
  "kernelspec": {
   "display_name": ".venv",
   "language": "python",
   "name": "python3"
  },
  "language_info": {
   "codemirror_mode": {
    "name": "ipython",
    "version": 3
   },
   "file_extension": ".py",
   "mimetype": "text/x-python",
   "name": "python",
   "nbconvert_exporter": "python",
   "pygments_lexer": "ipython3",
   "version": "3.12.7"
  }
 },
 "nbformat": 4,
 "nbformat_minor": 2
}
