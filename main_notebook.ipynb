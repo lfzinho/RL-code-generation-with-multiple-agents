{
 "cells": [
  {
   "cell_type": "code",
   "execution_count": null,
   "metadata": {},
   "outputs": [],
   "source": [
    "from IPython.display import display, Markdown\n",
    "from typing import List\n",
    "import pandas as pd\n",
    "import plotly.express as px\n",
    "from pydantic import BaseModel, Field\n",
    "from rl.llm_agent import LLMAgent\n",
    "from rl.environment import Environment\n",
    "from rl.code_evaluator import CodeEvaluator\n",
    "from rl.policies import EpsilonGreedyPolicy\n",
    "from rl.utils import compute_delta_grade, is_terminate_grade\n",
    "import json\n",
    "\n",
    "MAX_EPOCHS = 3"
   ]
  },
  {
   "cell_type": "code",
   "execution_count": null,
   "metadata": {},
   "outputs": [],
   "source": [
    "# List with JSON files name\n",
    "json_files_coder = [\n",
    "    \"json_files/prompts_clarity_coder.json\",\n",
    "    \"json_files/prompts_size_coder.json\",\n",
    "    \"json_files/prompts_specificity_coder.json\",\n",
    "    \"json_files/prompts_complexity_coder.json\"\n",
    "]\n",
    "\n",
    "json_files_reviewer = [\n",
    "    \"json_files/prompts_clarity_reviewer.json\",\n",
    "    \"json_files/prompts_size_reviewer.json\",\n",
    "    \"json_files/prompts_specificity_reviewer.json\",\n",
    "    \"json_files/prompts_complexity_reviewer.json\"\n",
    "]\n",
    "\n",
    "json_files_refiner = [\n",
    "    \"json_files/prompts_prop1_refiner.json\",\n",
    "    \"json_files/prompts_prop2_refiner.json\",\n",
    "    \"json_files/prompts_prop3_refiner.json\",\n",
    "    \"json_files/prompts_prop4_refiner.json\"\n",
    "]\n",
    "\n",
    "# Extracting all coder prompts into a list\n",
    "prompts_coder = []\n",
    "\n",
    "for file_name in json_files_coder:\n",
    "    # Loading the contents of JSON files\n",
    "    with open(file_name, \"r\", encoding=\"utf-8\") as file:\n",
    "        data = json.load(file)\n",
    "        for item in data:\n",
    "            prompts_coder.append(item[\"prompt\"])\n",
    "\n",
    "# Extracting all reviewer properties into a list\n",
    "reviewer_properties = []       \n",
    "\n",
    "for file_name in json_files_reviewer:\n",
    "    # Loading the contents of JSON files\n",
    "    with open(file_name, \"r\", encoding=\"utf-8\") as file:\n",
    "        data = json.load(file)\n",
    "        for item in data:\n",
    "            reviewer_properties.append(item[\"propriedade\"])\n",
    "\n",
    "# Extracting all refiner properties into a list\n",
    "refiner_properties = []     \n",
    "\n",
    "for file_name in json_files_coder:\n",
    "    # Loading the contents of JSON files\n",
    "    with open(file_name, \"r\", encoding=\"utf-8\") as file:\n",
    "        data = json.load(file)\n",
    "        for item in data:\n",
    "            refiner_properties.append(item[\"propriedade\"])             "
   ]
  },
  {
   "cell_type": "code",
   "execution_count": null,
   "metadata": {},
   "outputs": [],
   "source": [
    "#TODO: Make the main loop with this\n",
    "for prompt_coder in prompts_coder:\n",
    "    for reviewer_property in reviewer_properties:\n",
    "        for refiner_property in refiner_properties:\n",
    "            for i in range(1,6):\n",
    "                print(i)   "
   ]
  }
 ],
 "metadata": {
  "kernelspec": {
   "display_name": "Python 3",
   "language": "python",
   "name": "python3"
  },
  "language_info": {
   "name": "python",
   "version": "3.11.4"
  }
 },
 "nbformat": 4,
 "nbformat_minor": 2
}
