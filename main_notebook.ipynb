{
 "cells": [
  {
   "cell_type": "code",
   "execution_count": 55,
   "metadata": {},
   "outputs": [],
   "source": [
    "import pandas as pd\n",
    "import plotly.express as px\n",
    "from rl.llm_agent import LLMAgent\n",
    "from rl.environment import Environment\n",
    "from rl.code_evaluator import CodeEvaluator\n",
    "from rl.policies import EpsilonGreedyPolicy\n",
    "from rl.utils import compute_reviewer_grade, is_terminate_grade\n",
    "\n",
    "MAX_EPOCHS = 100"
   ]
  },
  {
   "cell_type": "code",
   "execution_count": 56,
   "metadata": {},
   "outputs": [],
   "source": [
    "# Initialize the problem\n",
    "environment = Environment()\n",
    "agent_coder = LLMAgent(\n",
    "    prompts=[\"Worst prompt coder\", \"Bad prompt coder\", \"Neutral prompt coder\", \"Good prompt coder\", \"Best prompt coder\"],\n",
    "    initial_value=10,\n",
    "    policy=EpsilonGreedyPolicy(0.1),\n",
    "    name=\"Coder\"\n",
    ")\n",
    "agent_evaluator = CodeEvaluator(\n",
    "    environment=environment,\n",
    "    prompt=\"Evaluate the code.\"\n",
    ")\n",
    "agent_reviewer = LLMAgent(\n",
    "    prompts=[\"Best prompt reviewer\", \"Good prompt reviewer\", \"Neutral prompt reviewer\", \"Bad prompt reviewer\", \"Worst prompt reviewer\"],\n",
    "    initial_value=10,\n",
    "    policy=EpsilonGreedyPolicy(0.1),\n",
    "    name=\"Reviewer\"\n",
    ")"
   ]
  },
  {
   "cell_type": "code",
   "execution_count": 57,
   "metadata": {},
   "outputs": [],
   "source": [
    "# Adds user message\n",
    "environment.add_message(\"User\", \"code something for me.\")"
   ]
  },
  {
   "cell_type": "code",
   "execution_count": 58,
   "metadata": {},
   "outputs": [],
   "source": [
    "# Iterate over the epochs\n",
    "last_grade = None\n",
    "hist_coder_rewards = []\n",
    "hist_reviewer_rewards = []\n",
    "\n",
    "for epoch in range(MAX_EPOCHS):\n",
    "    # The coder generates a message\n",
    "    agent_coder.add_message(environment)\n",
    "    # The evaluator evaluates the code\n",
    "    grade = agent_evaluator.evaluate_code()\n",
    "    # The coder receives the reward\n",
    "    agent_coder.reward(grade)\n",
    "    hist_coder_rewards.append(grade)\n",
    "    # The reviewer gets a reward based on the coder's grade improvement\n",
    "    if last_grade is not None:\n",
    "        reviewer_grade = compute_reviewer_grade(grade, last_grade)\n",
    "        agent_reviewer.reward(reviewer_grade)\n",
    "        hist_reviewer_rewards.append(reviewer_grade)\n",
    "    # If the grade is high enough, the problem is solved\n",
    "    if is_terminate_grade(grade):\n",
    "        environment.add_message(\"System\", \"✅ Code approved. Conversation terminated.\")\n",
    "        break\n",
    "    # If not, the reviewer generates a message\n",
    "    else:\n",
    "        agent_reviewer.add_message(environment)\n",
    "    last_grade = grade\n",
    "    # And the loop continues"
   ]
  },
  {
   "cell_type": "code",
   "execution_count": 59,
   "metadata": {},
   "outputs": [
    {
     "name": "stdout",
     "output_type": "stream",
     "text": [
      "User: code something for me.\n",
      "Coder: This is a generated text with the prompt: Neutral prompt coder\n",
      "Code Evaluator: The code was graded as 3\n",
      "Reviewer: This is a generated text with the prompt: Best prompt reviewer\n",
      "Coder: This is a generated text with the prompt: Worst prompt coder\n",
      "Code Evaluator: The code was graded as 6\n",
      "Reviewer: This is a generated text with the prompt: Good prompt reviewer\n",
      "Coder: This is a generated text with the prompt: Bad prompt coder\n",
      "Code Evaluator: The code was graded as 6\n",
      "Reviewer: This is a generated text with the prompt: Neutral prompt reviewer\n",
      "Coder: This is a generated text with the prompt: Good prompt coder\n",
      "Code Evaluator: The code was graded as 7\n",
      "Reviewer: This is a generated text with the prompt: Bad prompt reviewer\n",
      "Coder: This is a generated text with the prompt: Best prompt coder\n",
      "Code Evaluator: The code was graded as 7\n",
      "Reviewer: This is a generated text with the prompt: Worst prompt reviewer\n",
      "Coder: This is a generated text with the prompt: Good prompt coder\n",
      "Code Evaluator: The code was graded as 5\n",
      "Reviewer: This is a generated text with the prompt: Neutral prompt reviewer\n",
      "Coder: This is a generated text with the prompt: Best prompt coder\n",
      "Code Evaluator: The code was graded as 8\n",
      "Reviewer: This is a generated text with the prompt: Neutral prompt reviewer\n",
      "Coder: This is a generated text with the prompt: Best prompt coder\n",
      "Code Evaluator: The code was graded as 8\n",
      "Reviewer: This is a generated text with the prompt: Neutral prompt reviewer\n",
      "Coder: This is a generated text with the prompt: Best prompt coder\n",
      "Code Evaluator: The code was graded as 8\n",
      "Reviewer: This is a generated text with the prompt: Good prompt reviewer\n",
      "Coder: This is a generated text with the prompt: Best prompt coder\n",
      "Code Evaluator: The code was graded as 9\n",
      "Reviewer: This is a generated text with the prompt: Neutral prompt reviewer\n",
      "Coder: This is a generated text with the prompt: Best prompt coder\n",
      "Code Evaluator: The code was graded as 8\n",
      "Reviewer: This is a generated text with the prompt: Neutral prompt reviewer\n",
      "Coder: This is a generated text with the prompt: Best prompt coder\n",
      "Code Evaluator: The code was graded as 8\n",
      "Reviewer: This is a generated text with the prompt: Neutral prompt reviewer\n",
      "Coder: This is a generated text with the prompt: Best prompt coder\n",
      "Code Evaluator: The code was graded as 8\n",
      "Reviewer: This is a generated text with the prompt: Neutral prompt reviewer\n",
      "Coder: This is a generated text with the prompt: Best prompt coder\n",
      "Code Evaluator: The code was graded as 8\n",
      "Reviewer: This is a generated text with the prompt: Neutral prompt reviewer\n",
      "Coder: This is a generated text with the prompt: Best prompt coder\n",
      "Code Evaluator: The code was graded as 8\n",
      "Reviewer: This is a generated text with the prompt: Neutral prompt reviewer\n",
      "Coder: This is a generated text with the prompt: Best prompt coder\n",
      "Code Evaluator: The code was graded as 8\n",
      "Reviewer: This is a generated text with the prompt: Neutral prompt reviewer\n",
      "Coder: This is a generated text with the prompt: Best prompt coder\n",
      "Code Evaluator: The code was graded as 8\n",
      "Reviewer: This is a generated text with the prompt: Neutral prompt reviewer\n",
      "Coder: This is a generated text with the prompt: Best prompt coder\n",
      "Code Evaluator: The code was graded as 8\n",
      "Reviewer: This is a generated text with the prompt: Neutral prompt reviewer\n",
      "Coder: This is a generated text with the prompt: Best prompt coder\n",
      "Code Evaluator: The code was graded as 8\n",
      "Reviewer: This is a generated text with the prompt: Neutral prompt reviewer\n",
      "Coder: This is a generated text with the prompt: Best prompt coder\n",
      "Code Evaluator: The code was graded as 8\n",
      "Reviewer: This is a generated text with the prompt: Neutral prompt reviewer\n",
      "Coder: This is a generated text with the prompt: Best prompt coder\n",
      "Code Evaluator: The code was graded as 8\n",
      "Reviewer: This is a generated text with the prompt: Neutral prompt reviewer\n",
      "Coder: This is a generated text with the prompt: Good prompt coder\n",
      "Code Evaluator: The code was graded as 7\n",
      "Reviewer: This is a generated text with the prompt: Neutral prompt reviewer\n",
      "Coder: This is a generated text with the prompt: Best prompt coder\n",
      "Code Evaluator: The code was graded as 8\n",
      "Reviewer: This is a generated text with the prompt: Neutral prompt reviewer\n",
      "Coder: This is a generated text with the prompt: Best prompt coder\n",
      "Code Evaluator: The code was graded as 8\n",
      "Reviewer: This is a generated text with the prompt: Best prompt reviewer\n",
      "Coder: This is a generated text with the prompt: Best prompt coder\n",
      "Code Evaluator: The code was graded as 10\n",
      "System: ✅ Code approved. Conversation terminated.\n",
      "User: code something for me.\n",
      "Coder: This is a generated text with the prompt: Worst prompt coder\n",
      "Code Evaluator: The code was graded as 6\n",
      "Reviewer: This is a generated text with the prompt: Best prompt reviewer\n",
      "Coder: This is a generated text with the prompt: Bad prompt coder\n",
      "Code Evaluator: The code was graded as 7\n",
      "Reviewer: This is a generated text with the prompt: Good prompt reviewer\n",
      "Coder: This is a generated text with the prompt: Neutral prompt coder\n",
      "Code Evaluator: The code was graded as 7\n",
      "Reviewer: This is a generated text with the prompt: Neutral prompt reviewer\n",
      "Coder: This is a generated text with the prompt: Good prompt coder\n",
      "Code Evaluator: The code was graded as 7\n",
      "Reviewer: This is a generated text with the prompt: Bad prompt reviewer\n",
      "Coder: This is a generated text with the prompt: Best prompt coder\n",
      "Code Evaluator: The code was graded as 7\n",
      "Reviewer: This is a generated text with the prompt: Worst prompt reviewer\n",
      "Coder: This is a generated text with the prompt: Bad prompt coder\n",
      "Code Evaluator: The code was graded as 3\n",
      "Reviewer: This is a generated text with the prompt: Best prompt reviewer\n",
      "Coder: This is a generated text with the prompt: Neutral prompt coder\n",
      "Code Evaluator: The code was graded as 8\n",
      "Reviewer: This is a generated text with the prompt: Best prompt reviewer\n",
      "Coder: This is a generated text with the prompt: Neutral prompt coder\n",
      "Code Evaluator: The code was graded as 8\n",
      "Reviewer: This is a generated text with the prompt: Bad prompt reviewer\n",
      "Coder: This is a generated text with the prompt: Neutral prompt coder\n",
      "Code Evaluator: The code was graded as 5\n",
      "Reviewer: This is a generated text with the prompt: Best prompt reviewer\n",
      "Coder: This is a generated text with the prompt: Neutral prompt coder\n",
      "Code Evaluator: The code was graded as 8\n",
      "Reviewer: This is a generated text with the prompt: Best prompt reviewer\n",
      "Coder: This is a generated text with the prompt: Neutral prompt coder\n",
      "Code Evaluator: The code was graded as 8\n",
      "Reviewer: This is a generated text with the prompt: Best prompt reviewer\n",
      "Coder: This is a generated text with the prompt: Neutral prompt coder\n",
      "Code Evaluator: The code was graded as 8\n",
      "Reviewer: This is a generated text with the prompt: Best prompt reviewer\n",
      "Coder: This is a generated text with the prompt: Neutral prompt coder\n",
      "Code Evaluator: The code was graded as 8\n",
      "Reviewer: This is a generated text with the prompt: Best prompt reviewer\n",
      "Coder: This is a generated text with the prompt: Neutral prompt coder\n",
      "Code Evaluator: The code was graded as 8\n",
      "Reviewer: This is a generated text with the prompt: Best prompt reviewer\n",
      "Coder: This is a generated text with the prompt: Neutral prompt coder\n",
      "Code Evaluator: The code was graded as 8\n",
      "Reviewer: This is a generated text with the prompt: Best prompt reviewer\n",
      "Coder: This is a generated text with the prompt: Neutral prompt coder\n",
      "Code Evaluator: The code was graded as 8\n",
      "Reviewer: This is a generated text with the prompt: Best prompt reviewer\n",
      "Coder: This is a generated text with the prompt: Neutral prompt coder\n",
      "Code Evaluator: The code was graded as 8\n",
      "Reviewer: This is a generated text with the prompt: Best prompt reviewer\n",
      "Coder: This is a generated text with the prompt: Neutral prompt coder\n",
      "Code Evaluator: The code was graded as 8\n",
      "Reviewer: This is a generated text with the prompt: Best prompt reviewer\n",
      "Coder: This is a generated text with the prompt: Neutral prompt coder\n",
      "Code Evaluator: The code was graded as 8\n",
      "Reviewer: This is a generated text with the prompt: Best prompt reviewer\n",
      "Coder: This is a generated text with the prompt: Neutral prompt coder\n",
      "Code Evaluator: The code was graded as 8\n",
      "Reviewer: This is a generated text with the prompt: Good prompt reviewer\n",
      "Coder: This is a generated text with the prompt: Neutral prompt coder\n",
      "Code Evaluator: The code was graded as 7\n",
      "Reviewer: This is a generated text with the prompt: Worst prompt reviewer\n",
      "Coder: This is a generated text with the prompt: Best prompt coder\n",
      "Code Evaluator: The code was graded as 6\n",
      "Reviewer: This is a generated text with the prompt: Worst prompt reviewer\n",
      "Coder: This is a generated text with the prompt: Neutral prompt coder\n",
      "Code Evaluator: The code was graded as 4\n",
      "Reviewer: This is a generated text with the prompt: Best prompt reviewer\n",
      "Coder: This is a generated text with the prompt: Neutral prompt coder\n",
      "Code Evaluator: The code was graded as 8\n",
      "Reviewer: This is a generated text with the prompt: Best prompt reviewer\n",
      "Coder: This is a generated text with the prompt: Neutral prompt coder\n",
      "Code Evaluator: The code was graded as 8\n",
      "Reviewer: This is a generated text with the prompt: Best prompt reviewer\n",
      "Coder: This is a generated text with the prompt: Neutral prompt coder\n",
      "Code Evaluator: The code was graded as 8\n",
      "Reviewer: This is a generated text with the prompt: Best prompt reviewer\n",
      "Coder: This is a generated text with the prompt: Neutral prompt coder\n",
      "Code Evaluator: The code was graded as 8\n",
      "Reviewer: This is a generated text with the prompt: Best prompt reviewer\n",
      "Coder: This is a generated text with the prompt: Neutral prompt coder\n",
      "Code Evaluator: The code was graded as 8\n",
      "Reviewer: This is a generated text with the prompt: Best prompt reviewer\n",
      "Coder: This is a generated text with the prompt: Neutral prompt coder\n",
      "Code Evaluator: The code was graded as 8\n",
      "Reviewer: This is a generated text with the prompt: Best prompt reviewer\n",
      "Coder: This is a generated text with the prompt: Neutral prompt coder\n",
      "Code Evaluator: The code was graded as 8\n",
      "Reviewer: This is a generated text with the prompt: Best prompt reviewer\n",
      "Coder: This is a generated text with the prompt: Neutral prompt coder\n",
      "Code Evaluator: The code was graded as 8\n",
      "Reviewer: This is a generated text with the prompt: Best prompt reviewer\n",
      "Coder: This is a generated text with the prompt: Neutral prompt coder\n",
      "Code Evaluator: The code was graded as 8\n",
      "Reviewer: This is a generated text with the prompt: Best prompt reviewer\n",
      "Coder: This is a generated text with the prompt: Neutral prompt coder\n",
      "Code Evaluator: The code was graded as 8\n",
      "Reviewer: This is a generated text with the prompt: Best prompt reviewer\n",
      "Coder: This is a generated text with the prompt: Neutral prompt coder\n",
      "Code Evaluator: The code was graded as 8\n",
      "Reviewer: This is a generated text with the prompt: Best prompt reviewer\n",
      "Coder: This is a generated text with the prompt: Neutral prompt coder\n",
      "Code Evaluator: The code was graded as 8\n",
      "Reviewer: This is a generated text with the prompt: Best prompt reviewer\n",
      "Coder: This is a generated text with the prompt: Neutral prompt coder\n",
      "Code Evaluator: The code was graded as 8\n",
      "Reviewer: This is a generated text with the prompt: Best prompt reviewer\n",
      "Coder: This is a generated text with the prompt: Neutral prompt coder\n",
      "Code Evaluator: The code was graded as 8\n",
      "Reviewer: This is a generated text with the prompt: Best prompt reviewer\n",
      "Coder: This is a generated text with the prompt: Neutral prompt coder\n",
      "Code Evaluator: The code was graded as 8\n",
      "Reviewer: This is a generated text with the prompt: Best prompt reviewer\n",
      "Coder: This is a generated text with the prompt: Neutral prompt coder\n",
      "Code Evaluator: The code was graded as 8\n",
      "Reviewer: This is a generated text with the prompt: Best prompt reviewer\n",
      "Coder: This is a generated text with the prompt: Bad prompt coder\n",
      "Code Evaluator: The code was graded as 7\n",
      "Reviewer: This is a generated text with the prompt: Best prompt reviewer\n",
      "Coder: This is a generated text with the prompt: Neutral prompt coder\n",
      "Code Evaluator: The code was graded as 8\n",
      "Reviewer: This is a generated text with the prompt: Best prompt reviewer\n",
      "Coder: This is a generated text with the prompt: Neutral prompt coder\n",
      "Code Evaluator: The code was graded as 8\n",
      "Reviewer: This is a generated text with the prompt: Best prompt reviewer\n",
      "Coder: This is a generated text with the prompt: Neutral prompt coder\n",
      "Code Evaluator: The code was graded as 8\n",
      "Reviewer: This is a generated text with the prompt: Best prompt reviewer\n",
      "Coder: This is a generated text with the prompt: Neutral prompt coder\n",
      "Code Evaluator: The code was graded as 8\n",
      "Reviewer: This is a generated text with the prompt: Best prompt reviewer\n",
      "Coder: This is a generated text with the prompt: Neutral prompt coder\n",
      "Code Evaluator: The code was graded as 8\n",
      "Reviewer: This is a generated text with the prompt: Best prompt reviewer\n",
      "Coder: This is a generated text with the prompt: Neutral prompt coder\n",
      "Code Evaluator: The code was graded as 8\n",
      "Reviewer: This is a generated text with the prompt: Best prompt reviewer\n",
      "Coder: This is a generated text with the prompt: Neutral prompt coder\n",
      "Code Evaluator: The code was graded as 8\n",
      "Reviewer: This is a generated text with the prompt: Best prompt reviewer\n",
      "Coder: This is a generated text with the prompt: Neutral prompt coder\n",
      "Code Evaluator: The code was graded as 8\n",
      "Reviewer: This is a generated text with the prompt: Best prompt reviewer\n",
      "Coder: This is a generated text with the prompt: Neutral prompt coder\n",
      "Code Evaluator: The code was graded as 8\n",
      "Reviewer: This is a generated text with the prompt: Best prompt reviewer\n",
      "Coder: This is a generated text with the prompt: Neutral prompt coder\n",
      "Code Evaluator: The code was graded as 8\n",
      "Reviewer: This is a generated text with the prompt: Best prompt reviewer\n",
      "Coder: This is a generated text with the prompt: Neutral prompt coder\n",
      "Code Evaluator: The code was graded as 8\n",
      "Reviewer: This is a generated text with the prompt: Best prompt reviewer\n",
      "Coder: This is a generated text with the prompt: Neutral prompt coder\n",
      "Code Evaluator: The code was graded as 8\n",
      "Reviewer: This is a generated text with the prompt: Best prompt reviewer\n",
      "Coder: This is a generated text with the prompt: Neutral prompt coder\n",
      "Code Evaluator: The code was graded as 8\n",
      "Reviewer: This is a generated text with the prompt: Best prompt reviewer\n",
      "Coder: This is a generated text with the prompt: Neutral prompt coder\n",
      "Code Evaluator: The code was graded as 8\n",
      "Reviewer: This is a generated text with the prompt: Best prompt reviewer\n",
      "Coder: This is a generated text with the prompt: Neutral prompt coder\n",
      "Code Evaluator: The code was graded as 8\n",
      "Reviewer: This is a generated text with the prompt: Best prompt reviewer\n",
      "Coder: This is a generated text with the prompt: Neutral prompt coder\n",
      "Code Evaluator: The code was graded as 8\n",
      "Reviewer: This is a generated text with the prompt: Best prompt reviewer\n",
      "Coder: This is a generated text with the prompt: Neutral prompt coder\n",
      "Code Evaluator: The code was graded as 8\n",
      "Reviewer: This is a generated text with the prompt: Best prompt reviewer\n",
      "Coder: This is a generated text with the prompt: Neutral prompt coder\n",
      "Code Evaluator: The code was graded as 8\n",
      "Reviewer: This is a generated text with the prompt: Best prompt reviewer\n",
      "Coder: This is a generated text with the prompt: Neutral prompt coder\n",
      "Code Evaluator: The code was graded as 8\n",
      "Reviewer: This is a generated text with the prompt: Best prompt reviewer\n",
      "Coder: This is a generated text with the prompt: Neutral prompt coder\n",
      "Code Evaluator: The code was graded as 8\n",
      "Reviewer: This is a generated text with the prompt: Best prompt reviewer\n",
      "Coder: This is a generated text with the prompt: Neutral prompt coder\n",
      "Code Evaluator: The code was graded as 8\n",
      "Reviewer: This is a generated text with the prompt: Best prompt reviewer\n",
      "Coder: This is a generated text with the prompt: Neutral prompt coder\n",
      "Code Evaluator: The code was graded as 8\n",
      "Reviewer: This is a generated text with the prompt: Best prompt reviewer\n",
      "Coder: This is a generated text with the prompt: Neutral prompt coder\n",
      "Code Evaluator: The code was graded as 8\n",
      "Reviewer: This is a generated text with the prompt: Best prompt reviewer\n",
      "Coder: This is a generated text with the prompt: Neutral prompt coder\n",
      "Code Evaluator: The code was graded as 8\n",
      "Reviewer: This is a generated text with the prompt: Best prompt reviewer\n",
      "Coder: This is a generated text with the prompt: Best prompt coder\n",
      "Code Evaluator: The code was graded as 10\n",
      "System: ✅ Code approved. Conversation terminated.\n",
      "User: code something for me.\n",
      "Coder: This is a generated text with the prompt: Worst prompt coder\n",
      "Code Evaluator: The code was graded as 6\n",
      "Reviewer: This is a generated text with the prompt: Best prompt reviewer\n",
      "Coder: This is a generated text with the prompt: Bad prompt coder\n",
      "Code Evaluator: The code was graded as 7\n",
      "Reviewer: This is a generated text with the prompt: Good prompt reviewer\n",
      "Coder: This is a generated text with the prompt: Neutral prompt coder\n",
      "Code Evaluator: The code was graded as 7\n",
      "Reviewer: This is a generated text with the prompt: Neutral prompt reviewer\n",
      "Coder: This is a generated text with the prompt: Good prompt coder\n",
      "Code Evaluator: The code was graded as 7\n",
      "Reviewer: This is a generated text with the prompt: Bad prompt reviewer\n",
      "Coder: This is a generated text with the prompt: Best prompt coder\n",
      "Code Evaluator: The code was graded as 7\n",
      "Reviewer: This is a generated text with the prompt: Worst prompt reviewer\n",
      "Coder: This is a generated text with the prompt: Bad prompt coder\n",
      "Code Evaluator: The code was graded as 3\n",
      "Reviewer: This is a generated text with the prompt: Best prompt reviewer\n",
      "Coder: This is a generated text with the prompt: Neutral prompt coder\n",
      "Code Evaluator: The code was graded as 8\n",
      "Reviewer: This is a generated text with the prompt: Best prompt reviewer\n",
      "Coder: This is a generated text with the prompt: Neutral prompt coder\n",
      "Code Evaluator: The code was graded as 8\n",
      "Reviewer: This is a generated text with the prompt: Best prompt reviewer\n",
      "Coder: This is a generated text with the prompt: Neutral prompt coder\n",
      "Code Evaluator: The code was graded as 8\n",
      "Reviewer: This is a generated text with the prompt: Best prompt reviewer\n",
      "Coder: This is a generated text with the prompt: Neutral prompt coder\n",
      "Code Evaluator: The code was graded as 8\n",
      "Reviewer: This is a generated text with the prompt: Best prompt reviewer\n",
      "Coder: This is a generated text with the prompt: Neutral prompt coder\n",
      "Code Evaluator: The code was graded as 8\n",
      "Reviewer: This is a generated text with the prompt: Best prompt reviewer\n",
      "Coder: This is a generated text with the prompt: Good prompt coder\n",
      "Code Evaluator: The code was graded as 9\n",
      "Reviewer: This is a generated text with the prompt: Best prompt reviewer\n",
      "Coder: This is a generated text with the prompt: Good prompt coder\n",
      "Code Evaluator: The code was graded as 9\n",
      "Reviewer: This is a generated text with the prompt: Neutral prompt reviewer\n",
      "Coder: This is a generated text with the prompt: Good prompt coder\n",
      "Code Evaluator: The code was graded as 7\n",
      "Reviewer: This is a generated text with the prompt: Best prompt reviewer\n",
      "Coder: This is a generated text with the prompt: Good prompt coder\n",
      "Code Evaluator: The code was graded as 9\n",
      "Reviewer: This is a generated text with the prompt: Best prompt reviewer\n",
      "Coder: This is a generated text with the prompt: Good prompt coder\n",
      "Code Evaluator: The code was graded as 9\n",
      "Reviewer: This is a generated text with the prompt: Bad prompt reviewer\n",
      "Coder: This is a generated text with the prompt: Good prompt coder\n",
      "Code Evaluator: The code was graded as 6\n",
      "Reviewer: This is a generated text with the prompt: Best prompt reviewer\n",
      "Coder: This is a generated text with the prompt: Good prompt coder\n",
      "Code Evaluator: The code was graded as 9\n",
      "Reviewer: This is a generated text with the prompt: Best prompt reviewer\n",
      "Coder: This is a generated text with the prompt: Good prompt coder\n",
      "Code Evaluator: The code was graded as 9\n",
      "Reviewer: This is a generated text with the prompt: Best prompt reviewer\n",
      "Coder: This is a generated text with the prompt: Good prompt coder\n",
      "Code Evaluator: The code was graded as 9\n",
      "Reviewer: This is a generated text with the prompt: Best prompt reviewer\n",
      "Coder: This is a generated text with the prompt: Good prompt coder\n",
      "Code Evaluator: The code was graded as 9\n",
      "Reviewer: This is a generated text with the prompt: Best prompt reviewer\n",
      "Coder: This is a generated text with the prompt: Good prompt coder\n",
      "Code Evaluator: The code was graded as 9\n",
      "Reviewer: This is a generated text with the prompt: Best prompt reviewer\n",
      "Coder: This is a generated text with the prompt: Good prompt coder\n",
      "Code Evaluator: The code was graded as 9\n",
      "Reviewer: This is a generated text with the prompt: Good prompt reviewer\n",
      "Coder: This is a generated text with the prompt: Good prompt coder\n",
      "Code Evaluator: The code was graded as 8\n",
      "Reviewer: This is a generated text with the prompt: Best prompt reviewer\n",
      "Coder: This is a generated text with the prompt: Good prompt coder\n",
      "Code Evaluator: The code was graded as 9\n",
      "Reviewer: This is a generated text with the prompt: Best prompt reviewer\n",
      "Coder: This is a generated text with the prompt: Good prompt coder\n",
      "Code Evaluator: The code was graded as 9\n",
      "Reviewer: This is a generated text with the prompt: Best prompt reviewer\n",
      "Coder: This is a generated text with the prompt: Good prompt coder\n",
      "Code Evaluator: The code was graded as 9\n",
      "Reviewer: This is a generated text with the prompt: Neutral prompt reviewer\n",
      "Coder: This is a generated text with the prompt: Good prompt coder\n",
      "Code Evaluator: The code was graded as 7\n",
      "Reviewer: This is a generated text with the prompt: Best prompt reviewer\n",
      "Coder: This is a generated text with the prompt: Good prompt coder\n",
      "Code Evaluator: The code was graded as 9\n",
      "Reviewer: This is a generated text with the prompt: Best prompt reviewer\n",
      "Coder: This is a generated text with the prompt: Good prompt coder\n",
      "Code Evaluator: The code was graded as 9\n",
      "Reviewer: This is a generated text with the prompt: Best prompt reviewer\n",
      "Coder: This is a generated text with the prompt: Good prompt coder\n",
      "Code Evaluator: The code was graded as 9\n",
      "Reviewer: This is a generated text with the prompt: Best prompt reviewer\n",
      "Coder: This is a generated text with the prompt: Good prompt coder\n",
      "Code Evaluator: The code was graded as 9\n",
      "Reviewer: This is a generated text with the prompt: Best prompt reviewer\n",
      "Coder: This is a generated text with the prompt: Good prompt coder\n",
      "Code Evaluator: The code was graded as 9\n",
      "Reviewer: This is a generated text with the prompt: Best prompt reviewer\n",
      "Coder: This is a generated text with the prompt: Good prompt coder\n",
      "Code Evaluator: The code was graded as 9\n",
      "Reviewer: This is a generated text with the prompt: Best prompt reviewer\n",
      "Coder: This is a generated text with the prompt: Good prompt coder\n",
      "Code Evaluator: The code was graded as 9\n",
      "Reviewer: This is a generated text with the prompt: Best prompt reviewer\n",
      "Coder: This is a generated text with the prompt: Good prompt coder\n",
      "Code Evaluator: The code was graded as 9\n",
      "Reviewer: This is a generated text with the prompt: Best prompt reviewer\n",
      "Coder: This is a generated text with the prompt: Good prompt coder\n",
      "Code Evaluator: The code was graded as 9\n",
      "Reviewer: This is a generated text with the prompt: Best prompt reviewer\n",
      "Coder: This is a generated text with the prompt: Good prompt coder\n",
      "Code Evaluator: The code was graded as 9\n",
      "Reviewer: This is a generated text with the prompt: Best prompt reviewer\n",
      "Coder: This is a generated text with the prompt: Good prompt coder\n",
      "Code Evaluator: The code was graded as 9\n",
      "Reviewer: This is a generated text with the prompt: Neutral prompt reviewer\n",
      "Coder: This is a generated text with the prompt: Good prompt coder\n",
      "Code Evaluator: The code was graded as 7\n",
      "Reviewer: This is a generated text with the prompt: Best prompt reviewer\n",
      "Coder: This is a generated text with the prompt: Good prompt coder\n",
      "Code Evaluator: The code was graded as 9\n",
      "Reviewer: This is a generated text with the prompt: Best prompt reviewer\n",
      "Coder: This is a generated text with the prompt: Good prompt coder\n",
      "Code Evaluator: The code was graded as 9\n",
      "Reviewer: This is a generated text with the prompt: Best prompt reviewer\n",
      "Coder: This is a generated text with the prompt: Good prompt coder\n",
      "Code Evaluator: The code was graded as 9\n",
      "Reviewer: This is a generated text with the prompt: Best prompt reviewer\n",
      "Coder: This is a generated text with the prompt: Good prompt coder\n",
      "Code Evaluator: The code was graded as 9\n",
      "Reviewer: This is a generated text with the prompt: Best prompt reviewer\n",
      "Coder: This is a generated text with the prompt: Good prompt coder\n",
      "Code Evaluator: The code was graded as 9\n",
      "Reviewer: This is a generated text with the prompt: Best prompt reviewer\n",
      "Coder: This is a generated text with the prompt: Best prompt coder\n",
      "Code Evaluator: The code was graded as 10\n",
      "System: ✅ Code approved. Conversation terminated.\n",
      "User: code something for me.\n",
      "Coder: This is a generated text with the prompt: Worst prompt coder\n",
      "Code Evaluator: The code was graded as 6\n",
      "Reviewer: This is a generated text with the prompt: Best prompt reviewer\n",
      "Coder: This is a generated text with the prompt: Good prompt coder\n",
      "Code Evaluator: The code was graded as 9\n",
      "Reviewer: This is a generated text with the prompt: Good prompt reviewer\n",
      "Coder: This is a generated text with the prompt: Bad prompt coder\n",
      "Code Evaluator: The code was graded as 6\n",
      "Reviewer: This is a generated text with the prompt: Worst prompt reviewer\n",
      "Coder: This is a generated text with the prompt: Neutral prompt coder\n",
      "Code Evaluator: The code was graded as 4\n",
      "Reviewer: This is a generated text with the prompt: Neutral prompt reviewer\n",
      "Coder: This is a generated text with the prompt: Best prompt coder\n",
      "Code Evaluator: The code was graded as 8\n",
      "Reviewer: This is a generated text with the prompt: Bad prompt reviewer\n",
      "Coder: This is a generated text with the prompt: Good prompt coder\n",
      "Code Evaluator: The code was graded as 6\n",
      "Reviewer: This is a generated text with the prompt: Best prompt reviewer\n",
      "Coder: This is a generated text with the prompt: Bad prompt coder\n",
      "Code Evaluator: The code was graded as 7\n",
      "Reviewer: This is a generated text with the prompt: Best prompt reviewer\n",
      "Coder: This is a generated text with the prompt: Worst prompt coder\n",
      "Code Evaluator: The code was graded as 6\n",
      "Reviewer: This is a generated text with the prompt: Neutral prompt reviewer\n",
      "Coder: This is a generated text with the prompt: Best prompt coder\n",
      "Code Evaluator: The code was graded as 8\n",
      "Reviewer: This is a generated text with the prompt: Neutral prompt reviewer\n",
      "Coder: This is a generated text with the prompt: Neutral prompt coder\n",
      "Code Evaluator: The code was graded as 6\n",
      "Reviewer: This is a generated text with the prompt: Best prompt reviewer\n",
      "Coder: This is a generated text with the prompt: Best prompt coder\n",
      "Code Evaluator: The code was graded as 10\n",
      "System: ✅ Code approved. Conversation terminated.\n",
      "User: code something for me.\n",
      "Coder: This is a generated text with the prompt: Worst prompt coder\n",
      "Code Evaluator: The code was graded as 6\n",
      "Reviewer: This is a generated text with the prompt: Best prompt reviewer\n",
      "Coder: This is a generated text with the prompt: Bad prompt coder\n",
      "Code Evaluator: The code was graded as 7\n",
      "Reviewer: This is a generated text with the prompt: Good prompt reviewer\n",
      "Coder: This is a generated text with the prompt: Neutral prompt coder\n",
      "Code Evaluator: The code was graded as 7\n",
      "Reviewer: This is a generated text with the prompt: Bad prompt reviewer\n",
      "Coder: This is a generated text with the prompt: Good prompt coder\n",
      "Code Evaluator: The code was graded as 6\n",
      "Reviewer: This is a generated text with the prompt: Neutral prompt reviewer\n",
      "Coder: This is a generated text with the prompt: Best prompt coder\n",
      "Code Evaluator: The code was graded as 8\n",
      "Reviewer: This is a generated text with the prompt: Worst prompt reviewer\n",
      "Coder: This is a generated text with the prompt: Best prompt coder\n",
      "Code Evaluator: The code was graded as 6\n",
      "Reviewer: This is a generated text with the prompt: Neutral prompt reviewer\n",
      "Coder: This is a generated text with the prompt: Bad prompt coder\n",
      "Code Evaluator: The code was graded as 5\n",
      "Reviewer: This is a generated text with the prompt: Best prompt reviewer\n",
      "Coder: This is a generated text with the prompt: Neutral prompt coder\n",
      "Code Evaluator: The code was graded as 8\n",
      "Reviewer: This is a generated text with the prompt: Best prompt reviewer\n",
      "Coder: This is a generated text with the prompt: Neutral prompt coder\n",
      "Code Evaluator: The code was graded as 8\n",
      "Reviewer: This is a generated text with the prompt: Best prompt reviewer\n",
      "Coder: This is a generated text with the prompt: Neutral prompt coder\n",
      "Code Evaluator: The code was graded as 8\n",
      "Reviewer: This is a generated text with the prompt: Best prompt reviewer\n",
      "Coder: This is a generated text with the prompt: Neutral prompt coder\n",
      "Code Evaluator: The code was graded as 8\n",
      "Reviewer: This is a generated text with the prompt: Best prompt reviewer\n",
      "Coder: This is a generated text with the prompt: Neutral prompt coder\n",
      "Code Evaluator: The code was graded as 8\n",
      "Reviewer: This is a generated text with the prompt: Best prompt reviewer\n",
      "Coder: This is a generated text with the prompt: Neutral prompt coder\n",
      "Code Evaluator: The code was graded as 8\n",
      "Reviewer: This is a generated text with the prompt: Best prompt reviewer\n",
      "Coder: This is a generated text with the prompt: Neutral prompt coder\n",
      "Code Evaluator: The code was graded as 8\n",
      "Reviewer: This is a generated text with the prompt: Best prompt reviewer\n",
      "Coder: This is a generated text with the prompt: Neutral prompt coder\n",
      "Code Evaluator: The code was graded as 8\n",
      "Reviewer: This is a generated text with the prompt: Best prompt reviewer\n",
      "Coder: This is a generated text with the prompt: Neutral prompt coder\n",
      "Code Evaluator: The code was graded as 8\n",
      "Reviewer: This is a generated text with the prompt: Best prompt reviewer\n",
      "Coder: This is a generated text with the prompt: Neutral prompt coder\n",
      "Code Evaluator: The code was graded as 8\n",
      "Reviewer: This is a generated text with the prompt: Best prompt reviewer\n",
      "Coder: This is a generated text with the prompt: Neutral prompt coder\n",
      "Code Evaluator: The code was graded as 8\n",
      "Reviewer: This is a generated text with the prompt: Best prompt reviewer\n",
      "Coder: This is a generated text with the prompt: Neutral prompt coder\n",
      "Code Evaluator: The code was graded as 8\n",
      "Reviewer: This is a generated text with the prompt: Best prompt reviewer\n",
      "Coder: This is a generated text with the prompt: Good prompt coder\n",
      "Code Evaluator: The code was graded as 9\n",
      "Reviewer: This is a generated text with the prompt: Best prompt reviewer\n",
      "Coder: This is a generated text with the prompt: Bad prompt coder\n",
      "Code Evaluator: The code was graded as 7\n",
      "Reviewer: This is a generated text with the prompt: Best prompt reviewer\n",
      "Coder: This is a generated text with the prompt: Neutral prompt coder\n",
      "Code Evaluator: The code was graded as 8\n",
      "Reviewer: This is a generated text with the prompt: Best prompt reviewer\n",
      "Coder: This is a generated text with the prompt: Neutral prompt coder\n",
      "Code Evaluator: The code was graded as 8\n",
      "Reviewer: This is a generated text with the prompt: Best prompt reviewer\n",
      "Coder: This is a generated text with the prompt: Neutral prompt coder\n",
      "Code Evaluator: The code was graded as 8\n",
      "Reviewer: This is a generated text with the prompt: Best prompt reviewer\n",
      "Coder: This is a generated text with the prompt: Neutral prompt coder\n",
      "Code Evaluator: The code was graded as 8\n",
      "Reviewer: This is a generated text with the prompt: Best prompt reviewer\n",
      "Coder: This is a generated text with the prompt: Neutral prompt coder\n",
      "Code Evaluator: The code was graded as 8\n",
      "Reviewer: This is a generated text with the prompt: Best prompt reviewer\n",
      "Coder: This is a generated text with the prompt: Neutral prompt coder\n",
      "Code Evaluator: The code was graded as 8\n",
      "Reviewer: This is a generated text with the prompt: Best prompt reviewer\n",
      "Coder: This is a generated text with the prompt: Neutral prompt coder\n",
      "Code Evaluator: The code was graded as 8\n",
      "Reviewer: This is a generated text with the prompt: Best prompt reviewer\n",
      "Coder: This is a generated text with the prompt: Neutral prompt coder\n",
      "Code Evaluator: The code was graded as 8\n",
      "Reviewer: This is a generated text with the prompt: Best prompt reviewer\n",
      "Coder: This is a generated text with the prompt: Neutral prompt coder\n",
      "Code Evaluator: The code was graded as 8\n",
      "Reviewer: This is a generated text with the prompt: Best prompt reviewer\n",
      "Coder: This is a generated text with the prompt: Best prompt coder\n",
      "Code Evaluator: The code was graded as 10\n",
      "System: ✅ Code approved. Conversation terminated.\n",
      "User: code something for me.\n",
      "Coder: This is a generated text with the prompt: Worst prompt coder\n",
      "Code Evaluator: The code was graded as 6\n",
      "Reviewer: This is a generated text with the prompt: Best prompt reviewer\n",
      "Coder: This is a generated text with the prompt: Bad prompt coder\n",
      "Code Evaluator: The code was graded as 7\n",
      "Reviewer: This is a generated text with the prompt: Good prompt reviewer\n",
      "Coder: This is a generated text with the prompt: Neutral prompt coder\n",
      "Code Evaluator: The code was graded as 7\n",
      "Reviewer: This is a generated text with the prompt: Neutral prompt reviewer\n",
      "Coder: This is a generated text with the prompt: Good prompt coder\n",
      "Code Evaluator: The code was graded as 7\n",
      "Reviewer: This is a generated text with the prompt: Bad prompt reviewer\n",
      "Coder: This is a generated text with the prompt: Best prompt coder\n",
      "Code Evaluator: The code was graded as 7\n",
      "Reviewer: This is a generated text with the prompt: Worst prompt reviewer\n",
      "Coder: This is a generated text with the prompt: Bad prompt coder\n",
      "Code Evaluator: The code was graded as 3\n",
      "Reviewer: This is a generated text with the prompt: Best prompt reviewer\n",
      "Coder: This is a generated text with the prompt: Neutral prompt coder\n",
      "Code Evaluator: The code was graded as 8\n",
      "Reviewer: This is a generated text with the prompt: Best prompt reviewer\n",
      "Coder: This is a generated text with the prompt: Neutral prompt coder\n",
      "Code Evaluator: The code was graded as 8\n",
      "Reviewer: This is a generated text with the prompt: Best prompt reviewer\n",
      "Coder: This is a generated text with the prompt: Neutral prompt coder\n",
      "Code Evaluator: The code was graded as 8\n",
      "Reviewer: This is a generated text with the prompt: Best prompt reviewer\n",
      "Coder: This is a generated text with the prompt: Neutral prompt coder\n",
      "Code Evaluator: The code was graded as 8\n",
      "Reviewer: This is a generated text with the prompt: Best prompt reviewer\n",
      "Coder: This is a generated text with the prompt: Neutral prompt coder\n",
      "Code Evaluator: The code was graded as 8\n",
      "Reviewer: This is a generated text with the prompt: Worst prompt reviewer\n",
      "Coder: This is a generated text with the prompt: Neutral prompt coder\n",
      "Code Evaluator: The code was graded as 4\n",
      "Reviewer: This is a generated text with the prompt: Best prompt reviewer\n",
      "Coder: This is a generated text with the prompt: Neutral prompt coder\n",
      "Code Evaluator: The code was graded as 8\n",
      "Reviewer: This is a generated text with the prompt: Best prompt reviewer\n",
      "Coder: This is a generated text with the prompt: Neutral prompt coder\n",
      "Code Evaluator: The code was graded as 8\n",
      "Reviewer: This is a generated text with the prompt: Good prompt reviewer\n",
      "Coder: This is a generated text with the prompt: Good prompt coder\n",
      "Code Evaluator: The code was graded as 8\n",
      "Reviewer: This is a generated text with the prompt: Good prompt reviewer\n",
      "Coder: This is a generated text with the prompt: Good prompt coder\n",
      "Code Evaluator: The code was graded as 8\n",
      "Reviewer: This is a generated text with the prompt: Best prompt reviewer\n",
      "Coder: This is a generated text with the prompt: Good prompt coder\n",
      "Code Evaluator: The code was graded as 9\n",
      "Reviewer: This is a generated text with the prompt: Best prompt reviewer\n",
      "Coder: This is a generated text with the prompt: Good prompt coder\n",
      "Code Evaluator: The code was graded as 9\n",
      "Reviewer: This is a generated text with the prompt: Best prompt reviewer\n",
      "Coder: This is a generated text with the prompt: Good prompt coder\n",
      "Code Evaluator: The code was graded as 9\n",
      "Reviewer: This is a generated text with the prompt: Best prompt reviewer\n",
      "Coder: This is a generated text with the prompt: Good prompt coder\n",
      "Code Evaluator: The code was graded as 9\n",
      "Reviewer: This is a generated text with the prompt: Best prompt reviewer\n",
      "Coder: This is a generated text with the prompt: Good prompt coder\n",
      "Code Evaluator: The code was graded as 9\n",
      "Reviewer: This is a generated text with the prompt: Best prompt reviewer\n",
      "Coder: This is a generated text with the prompt: Good prompt coder\n",
      "Code Evaluator: The code was graded as 9\n",
      "Reviewer: This is a generated text with the prompt: Best prompt reviewer\n",
      "Coder: This is a generated text with the prompt: Good prompt coder\n",
      "Code Evaluator: The code was graded as 9\n",
      "Reviewer: This is a generated text with the prompt: Best prompt reviewer\n",
      "Coder: This is a generated text with the prompt: Good prompt coder\n",
      "Code Evaluator: The code was graded as 9\n",
      "Reviewer: This is a generated text with the prompt: Best prompt reviewer\n",
      "Coder: This is a generated text with the prompt: Good prompt coder\n",
      "Code Evaluator: The code was graded as 9\n",
      "Reviewer: This is a generated text with the prompt: Best prompt reviewer\n",
      "Coder: This is a generated text with the prompt: Good prompt coder\n",
      "Code Evaluator: The code was graded as 9\n",
      "Reviewer: This is a generated text with the prompt: Best prompt reviewer\n",
      "Coder: This is a generated text with the prompt: Good prompt coder\n",
      "Code Evaluator: The code was graded as 9\n",
      "Reviewer: This is a generated text with the prompt: Best prompt reviewer\n",
      "Coder: This is a generated text with the prompt: Good prompt coder\n",
      "Code Evaluator: The code was graded as 9\n",
      "Reviewer: This is a generated text with the prompt: Best prompt reviewer\n",
      "Coder: This is a generated text with the prompt: Good prompt coder\n",
      "Code Evaluator: The code was graded as 9\n",
      "Reviewer: This is a generated text with the prompt: Best prompt reviewer\n",
      "Coder: This is a generated text with the prompt: Good prompt coder\n",
      "Code Evaluator: The code was graded as 9\n",
      "Reviewer: This is a generated text with the prompt: Best prompt reviewer\n",
      "Coder: This is a generated text with the prompt: Good prompt coder\n",
      "Code Evaluator: The code was graded as 9\n",
      "Reviewer: This is a generated text with the prompt: Best prompt reviewer\n",
      "Coder: This is a generated text with the prompt: Good prompt coder\n",
      "Code Evaluator: The code was graded as 9\n",
      "Reviewer: This is a generated text with the prompt: Best prompt reviewer\n",
      "Coder: This is a generated text with the prompt: Good prompt coder\n",
      "Code Evaluator: The code was graded as 9\n",
      "Reviewer: This is a generated text with the prompt: Best prompt reviewer\n",
      "Coder: This is a generated text with the prompt: Good prompt coder\n",
      "Code Evaluator: The code was graded as 9\n",
      "Reviewer: This is a generated text with the prompt: Best prompt reviewer\n",
      "Coder: This is a generated text with the prompt: Good prompt coder\n",
      "Code Evaluator: The code was graded as 9\n",
      "Reviewer: This is a generated text with the prompt: Best prompt reviewer\n",
      "Coder: This is a generated text with the prompt: Good prompt coder\n",
      "Code Evaluator: The code was graded as 9\n",
      "Reviewer: This is a generated text with the prompt: Best prompt reviewer\n",
      "Coder: This is a generated text with the prompt: Good prompt coder\n",
      "Code Evaluator: The code was graded as 9\n",
      "Reviewer: This is a generated text with the prompt: Best prompt reviewer\n",
      "Coder: This is a generated text with the prompt: Good prompt coder\n",
      "Code Evaluator: The code was graded as 9\n",
      "Reviewer: This is a generated text with the prompt: Best prompt reviewer\n",
      "Coder: This is a generated text with the prompt: Good prompt coder\n",
      "Code Evaluator: The code was graded as 9\n",
      "Reviewer: This is a generated text with the prompt: Best prompt reviewer\n",
      "Coder: This is a generated text with the prompt: Good prompt coder\n",
      "Code Evaluator: The code was graded as 9\n",
      "Reviewer: This is a generated text with the prompt: Best prompt reviewer\n",
      "Coder: This is a generated text with the prompt: Good prompt coder\n",
      "Code Evaluator: The code was graded as 9\n",
      "Reviewer: This is a generated text with the prompt: Best prompt reviewer\n",
      "Coder: This is a generated text with the prompt: Good prompt coder\n",
      "Code Evaluator: The code was graded as 9\n",
      "Reviewer: This is a generated text with the prompt: Best prompt reviewer\n",
      "Coder: This is a generated text with the prompt: Good prompt coder\n",
      "Code Evaluator: The code was graded as 9\n",
      "Reviewer: This is a generated text with the prompt: Best prompt reviewer\n",
      "Coder: This is a generated text with the prompt: Good prompt coder\n",
      "Code Evaluator: The code was graded as 9\n",
      "Reviewer: This is a generated text with the prompt: Best prompt reviewer\n",
      "Coder: This is a generated text with the prompt: Good prompt coder\n",
      "Code Evaluator: The code was graded as 9\n",
      "Reviewer: This is a generated text with the prompt: Best prompt reviewer\n",
      "Coder: This is a generated text with the prompt: Good prompt coder\n",
      "Code Evaluator: The code was graded as 9\n",
      "Reviewer: This is a generated text with the prompt: Best prompt reviewer\n",
      "Coder: This is a generated text with the prompt: Good prompt coder\n",
      "Code Evaluator: The code was graded as 9\n",
      "Reviewer: This is a generated text with the prompt: Best prompt reviewer\n",
      "Coder: This is a generated text with the prompt: Worst prompt coder\n",
      "Code Evaluator: The code was graded as 6\n",
      "Reviewer: This is a generated text with the prompt: Best prompt reviewer\n",
      "Coder: This is a generated text with the prompt: Good prompt coder\n",
      "Code Evaluator: The code was graded as 9\n",
      "Reviewer: This is a generated text with the prompt: Best prompt reviewer\n",
      "Coder: This is a generated text with the prompt: Good prompt coder\n",
      "Code Evaluator: The code was graded as 9\n",
      "Reviewer: This is a generated text with the prompt: Best prompt reviewer\n",
      "Coder: This is a generated text with the prompt: Good prompt coder\n",
      "Code Evaluator: The code was graded as 9\n",
      "Reviewer: This is a generated text with the prompt: Best prompt reviewer\n",
      "Coder: This is a generated text with the prompt: Good prompt coder\n",
      "Code Evaluator: The code was graded as 9\n",
      "Reviewer: This is a generated text with the prompt: Good prompt reviewer\n",
      "Coder: This is a generated text with the prompt: Good prompt coder\n",
      "Code Evaluator: The code was graded as 8\n",
      "Reviewer: This is a generated text with the prompt: Best prompt reviewer\n",
      "Coder: This is a generated text with the prompt: Good prompt coder\n",
      "Code Evaluator: The code was graded as 9\n",
      "Reviewer: This is a generated text with the prompt: Best prompt reviewer\n",
      "Coder: This is a generated text with the prompt: Good prompt coder\n",
      "Code Evaluator: The code was graded as 9\n",
      "Reviewer: This is a generated text with the prompt: Best prompt reviewer\n",
      "Coder: This is a generated text with the prompt: Good prompt coder\n",
      "Code Evaluator: The code was graded as 9\n",
      "Reviewer: This is a generated text with the prompt: Best prompt reviewer\n",
      "Coder: This is a generated text with the prompt: Good prompt coder\n",
      "Code Evaluator: The code was graded as 9\n",
      "Reviewer: This is a generated text with the prompt: Best prompt reviewer\n",
      "Coder: This is a generated text with the prompt: Good prompt coder\n",
      "Code Evaluator: The code was graded as 9\n",
      "Reviewer: This is a generated text with the prompt: Best prompt reviewer\n",
      "Coder: This is a generated text with the prompt: Good prompt coder\n",
      "Code Evaluator: The code was graded as 9\n",
      "Reviewer: This is a generated text with the prompt: Best prompt reviewer\n",
      "Coder: This is a generated text with the prompt: Good prompt coder\n",
      "Code Evaluator: The code was graded as 9\n",
      "Reviewer: This is a generated text with the prompt: Best prompt reviewer\n",
      "Coder: This is a generated text with the prompt: Good prompt coder\n",
      "Code Evaluator: The code was graded as 9\n",
      "Reviewer: This is a generated text with the prompt: Best prompt reviewer\n",
      "Coder: This is a generated text with the prompt: Good prompt coder\n",
      "Code Evaluator: The code was graded as 9\n",
      "Reviewer: This is a generated text with the prompt: Best prompt reviewer\n",
      "Coder: This is a generated text with the prompt: Good prompt coder\n",
      "Code Evaluator: The code was graded as 9\n",
      "Reviewer: This is a generated text with the prompt: Best prompt reviewer\n",
      "Coder: This is a generated text with the prompt: Good prompt coder\n",
      "Code Evaluator: The code was graded as 9\n",
      "Reviewer: This is a generated text with the prompt: Best prompt reviewer\n",
      "Coder: This is a generated text with the prompt: Good prompt coder\n",
      "Code Evaluator: The code was graded as 9\n",
      "Reviewer: This is a generated text with the prompt: Best prompt reviewer\n",
      "Coder: This is a generated text with the prompt: Good prompt coder\n",
      "Code Evaluator: The code was graded as 9\n",
      "Reviewer: This is a generated text with the prompt: Best prompt reviewer\n",
      "Coder: This is a generated text with the prompt: Good prompt coder\n",
      "Code Evaluator: The code was graded as 9\n",
      "Reviewer: This is a generated text with the prompt: Best prompt reviewer\n",
      "Coder: This is a generated text with the prompt: Good prompt coder\n",
      "Code Evaluator: The code was graded as 9\n",
      "Reviewer: This is a generated text with the prompt: Best prompt reviewer\n",
      "Coder: This is a generated text with the prompt: Good prompt coder\n",
      "Code Evaluator: The code was graded as 9\n",
      "Reviewer: This is a generated text with the prompt: Best prompt reviewer\n",
      "Coder: This is a generated text with the prompt: Neutral prompt coder\n",
      "Code Evaluator: The code was graded as 8\n",
      "Reviewer: This is a generated text with the prompt: Best prompt reviewer\n",
      "Coder: This is a generated text with the prompt: Good prompt coder\n",
      "Code Evaluator: The code was graded as 9\n",
      "Reviewer: This is a generated text with the prompt: Best prompt reviewer\n",
      "Coder: This is a generated text with the prompt: Good prompt coder\n",
      "Code Evaluator: The code was graded as 9\n",
      "Reviewer: This is a generated text with the prompt: Best prompt reviewer\n",
      "Coder: This is a generated text with the prompt: Good prompt coder\n",
      "Code Evaluator: The code was graded as 9\n",
      "Reviewer: This is a generated text with the prompt: Best prompt reviewer\n",
      "Coder: This is a generated text with the prompt: Good prompt coder\n",
      "Code Evaluator: The code was graded as 9\n",
      "Reviewer: This is a generated text with the prompt: Best prompt reviewer\n",
      "Coder: This is a generated text with the prompt: Good prompt coder\n",
      "Code Evaluator: The code was graded as 9\n",
      "Reviewer: This is a generated text with the prompt: Best prompt reviewer\n",
      "Coder: This is a generated text with the prompt: Good prompt coder\n",
      "Code Evaluator: The code was graded as 9\n",
      "Reviewer: This is a generated text with the prompt: Best prompt reviewer\n",
      "Coder: This is a generated text with the prompt: Good prompt coder\n",
      "Code Evaluator: The code was graded as 9\n",
      "Reviewer: This is a generated text with the prompt: Best prompt reviewer\n",
      "Coder: This is a generated text with the prompt: Good prompt coder\n",
      "Code Evaluator: The code was graded as 9\n",
      "Reviewer: This is a generated text with the prompt: Best prompt reviewer\n",
      "Coder: This is a generated text with the prompt: Good prompt coder\n",
      "Code Evaluator: The code was graded as 9\n",
      "Reviewer: This is a generated text with the prompt: Best prompt reviewer\n",
      "Coder: This is a generated text with the prompt: Good prompt coder\n",
      "Code Evaluator: The code was graded as 9\n",
      "Reviewer: This is a generated text with the prompt: Best prompt reviewer\n",
      "Coder: This is a generated text with the prompt: Good prompt coder\n",
      "Code Evaluator: The code was graded as 9\n",
      "Reviewer: This is a generated text with the prompt: Best prompt reviewer\n",
      "Coder: This is a generated text with the prompt: Good prompt coder\n",
      "Code Evaluator: The code was graded as 9\n",
      "Reviewer: This is a generated text with the prompt: Best prompt reviewer\n",
      "Coder: This is a generated text with the prompt: Good prompt coder\n",
      "Code Evaluator: The code was graded as 9\n",
      "Reviewer: This is a generated text with the prompt: Best prompt reviewer\n",
      "Coder: This is a generated text with the prompt: Good prompt coder\n",
      "Code Evaluator: The code was graded as 9\n",
      "Reviewer: This is a generated text with the prompt: Best prompt reviewer\n",
      "Coder: This is a generated text with the prompt: Good prompt coder\n",
      "Code Evaluator: The code was graded as 9\n",
      "Reviewer: This is a generated text with the prompt: Best prompt reviewer\n",
      "Coder: This is a generated text with the prompt: Good prompt coder\n",
      "Code Evaluator: The code was graded as 9\n",
      "Reviewer: This is a generated text with the prompt: Best prompt reviewer\n",
      "Coder: This is a generated text with the prompt: Good prompt coder\n",
      "Code Evaluator: The code was graded as 9\n",
      "Reviewer: This is a generated text with the prompt: Neutral prompt reviewer\n",
      "Coder: This is a generated text with the prompt: Good prompt coder\n",
      "Code Evaluator: The code was graded as 7\n",
      "Reviewer: This is a generated text with the prompt: Best prompt reviewer\n",
      "Coder: This is a generated text with the prompt: Good prompt coder\n",
      "Code Evaluator: The code was graded as 9\n",
      "Reviewer: This is a generated text with the prompt: Best prompt reviewer\n",
      "Coder: This is a generated text with the prompt: Good prompt coder\n",
      "Code Evaluator: The code was graded as 9\n",
      "Reviewer: This is a generated text with the prompt: Best prompt reviewer\n",
      "Coder: This is a generated text with the prompt: Good prompt coder\n",
      "Code Evaluator: The code was graded as 9\n",
      "Reviewer: This is a generated text with the prompt: Best prompt reviewer\n",
      "Coder: This is a generated text with the prompt: Good prompt coder\n",
      "Code Evaluator: The code was graded as 9\n",
      "Reviewer: This is a generated text with the prompt: Best prompt reviewer\n",
      "Coder: This is a generated text with the prompt: Good prompt coder\n",
      "Code Evaluator: The code was graded as 9\n",
      "Reviewer: This is a generated text with the prompt: Best prompt reviewer\n",
      "Coder: This is a generated text with the prompt: Good prompt coder\n",
      "Code Evaluator: The code was graded as 9\n",
      "Reviewer: This is a generated text with the prompt: Best prompt reviewer\n",
      "Coder: This is a generated text with the prompt: Good prompt coder\n",
      "Code Evaluator: The code was graded as 9\n",
      "Reviewer: This is a generated text with the prompt: Best prompt reviewer\n",
      "Coder: This is a generated text with the prompt: Good prompt coder\n",
      "Code Evaluator: The code was graded as 9\n",
      "Reviewer: This is a generated text with the prompt: Best prompt reviewer\n",
      "Coder: This is a generated text with the prompt: Good prompt coder\n",
      "Code Evaluator: The code was graded as 9\n",
      "Reviewer: This is a generated text with the prompt: Best prompt reviewer\n",
      "Coder: This is a generated text with the prompt: Good prompt coder\n",
      "Code Evaluator: The code was graded as 9\n",
      "Reviewer: This is a generated text with the prompt: Best prompt reviewer\n",
      "Coder: This is a generated text with the prompt: Good prompt coder\n",
      "Code Evaluator: The code was graded as 9\n",
      "Reviewer: This is a generated text with the prompt: Bad prompt reviewer\n",
      "Coder: This is a generated text with the prompt: Good prompt coder\n",
      "Code Evaluator: The code was graded as 6\n",
      "Reviewer: This is a generated text with the prompt: Best prompt reviewer\n",
      "User: code something for me.\n",
      "Coder: This is a generated text with the prompt: Worst prompt coder\n",
      "Code Evaluator: The code was graded as 6\n",
      "Reviewer: This is a generated text with the prompt: Best prompt reviewer\n",
      "Coder: This is a generated text with the prompt: Bad prompt coder\n",
      "Code Evaluator: The code was graded as 7\n",
      "Reviewer: This is a generated text with the prompt: Good prompt reviewer\n",
      "Coder: This is a generated text with the prompt: Neutral prompt coder\n",
      "Code Evaluator: The code was graded as 7\n",
      "Reviewer: This is a generated text with the prompt: Neutral prompt reviewer\n",
      "Coder: This is a generated text with the prompt: Good prompt coder\n",
      "Code Evaluator: The code was graded as 7\n",
      "Reviewer: This is a generated text with the prompt: Bad prompt reviewer\n",
      "Coder: This is a generated text with the prompt: Best prompt coder\n",
      "Code Evaluator: The code was graded as 7\n",
      "Reviewer: This is a generated text with the prompt: Worst prompt reviewer\n",
      "Coder: This is a generated text with the prompt: Worst prompt coder\n",
      "Code Evaluator: The code was graded as 2\n",
      "Reviewer: This is a generated text with the prompt: Best prompt reviewer\n",
      "Coder: This is a generated text with the prompt: Bad prompt coder\n",
      "Code Evaluator: The code was graded as 7\n",
      "Reviewer: This is a generated text with the prompt: Best prompt reviewer\n",
      "Coder: This is a generated text with the prompt: Bad prompt coder\n",
      "Code Evaluator: The code was graded as 7\n",
      "Reviewer: This is a generated text with the prompt: Best prompt reviewer\n",
      "Coder: This is a generated text with the prompt: Bad prompt coder\n",
      "Code Evaluator: The code was graded as 7\n",
      "Reviewer: This is a generated text with the prompt: Best prompt reviewer\n",
      "Coder: This is a generated text with the prompt: Bad prompt coder\n",
      "Code Evaluator: The code was graded as 7\n",
      "Reviewer: This is a generated text with the prompt: Best prompt reviewer\n",
      "Coder: This is a generated text with the prompt: Bad prompt coder\n",
      "Code Evaluator: The code was graded as 7\n",
      "Reviewer: This is a generated text with the prompt: Best prompt reviewer\n",
      "Coder: This is a generated text with the prompt: Bad prompt coder\n",
      "Code Evaluator: The code was graded as 7\n",
      "Reviewer: This is a generated text with the prompt: Best prompt reviewer\n",
      "Coder: This is a generated text with the prompt: Bad prompt coder\n",
      "Code Evaluator: The code was graded as 7\n",
      "Reviewer: This is a generated text with the prompt: Best prompt reviewer\n",
      "Coder: This is a generated text with the prompt: Bad prompt coder\n",
      "Code Evaluator: The code was graded as 7\n",
      "Reviewer: This is a generated text with the prompt: Neutral prompt reviewer\n",
      "Coder: This is a generated text with the prompt: Bad prompt coder\n",
      "Code Evaluator: The code was graded as 5\n",
      "Reviewer: This is a generated text with the prompt: Best prompt reviewer\n",
      "Coder: This is a generated text with the prompt: Neutral prompt coder\n",
      "Code Evaluator: The code was graded as 8\n",
      "Reviewer: This is a generated text with the prompt: Best prompt reviewer\n",
      "Coder: This is a generated text with the prompt: Neutral prompt coder\n",
      "Code Evaluator: The code was graded as 8\n",
      "Reviewer: This is a generated text with the prompt: Best prompt reviewer\n",
      "Coder: This is a generated text with the prompt: Neutral prompt coder\n",
      "Code Evaluator: The code was graded as 8\n",
      "Reviewer: This is a generated text with the prompt: Best prompt reviewer\n",
      "Coder: This is a generated text with the prompt: Neutral prompt coder\n",
      "Code Evaluator: The code was graded as 8\n",
      "Reviewer: This is a generated text with the prompt: Best prompt reviewer\n",
      "Coder: This is a generated text with the prompt: Neutral prompt coder\n",
      "Code Evaluator: The code was graded as 8\n",
      "Reviewer: This is a generated text with the prompt: Best prompt reviewer\n",
      "Coder: This is a generated text with the prompt: Neutral prompt coder\n",
      "Code Evaluator: The code was graded as 8\n",
      "Reviewer: This is a generated text with the prompt: Best prompt reviewer\n",
      "Coder: This is a generated text with the prompt: Neutral prompt coder\n",
      "Code Evaluator: The code was graded as 8\n",
      "Reviewer: This is a generated text with the prompt: Good prompt reviewer\n",
      "Coder: This is a generated text with the prompt: Neutral prompt coder\n",
      "Code Evaluator: The code was graded as 7\n",
      "Reviewer: This is a generated text with the prompt: Best prompt reviewer\n",
      "Coder: This is a generated text with the prompt: Neutral prompt coder\n",
      "Code Evaluator: The code was graded as 8\n",
      "Reviewer: This is a generated text with the prompt: Best prompt reviewer\n",
      "Coder: This is a generated text with the prompt: Neutral prompt coder\n",
      "Code Evaluator: The code was graded as 8\n",
      "Reviewer: This is a generated text with the prompt: Best prompt reviewer\n",
      "Coder: This is a generated text with the prompt: Neutral prompt coder\n",
      "Code Evaluator: The code was graded as 8\n",
      "Reviewer: This is a generated text with the prompt: Best prompt reviewer\n",
      "Coder: This is a generated text with the prompt: Neutral prompt coder\n",
      "Code Evaluator: The code was graded as 8\n",
      "Reviewer: This is a generated text with the prompt: Best prompt reviewer\n",
      "Coder: This is a generated text with the prompt: Neutral prompt coder\n",
      "Code Evaluator: The code was graded as 8\n",
      "Reviewer: This is a generated text with the prompt: Best prompt reviewer\n",
      "Coder: This is a generated text with the prompt: Neutral prompt coder\n",
      "Code Evaluator: The code was graded as 8\n",
      "Reviewer: This is a generated text with the prompt: Best prompt reviewer\n",
      "Coder: This is a generated text with the prompt: Neutral prompt coder\n",
      "Code Evaluator: The code was graded as 8\n",
      "Reviewer: This is a generated text with the prompt: Best prompt reviewer\n",
      "Coder: This is a generated text with the prompt: Neutral prompt coder\n",
      "Code Evaluator: The code was graded as 8\n",
      "Reviewer: This is a generated text with the prompt: Best prompt reviewer\n",
      "Coder: This is a generated text with the prompt: Neutral prompt coder\n",
      "Code Evaluator: The code was graded as 8\n",
      "Reviewer: This is a generated text with the prompt: Best prompt reviewer\n",
      "Coder: This is a generated text with the prompt: Neutral prompt coder\n",
      "Code Evaluator: The code was graded as 8\n",
      "Reviewer: This is a generated text with the prompt: Neutral prompt reviewer\n",
      "Coder: This is a generated text with the prompt: Neutral prompt coder\n",
      "Code Evaluator: The code was graded as 6\n",
      "Reviewer: This is a generated text with the prompt: Best prompt reviewer\n",
      "Coder: This is a generated text with the prompt: Neutral prompt coder\n",
      "Code Evaluator: The code was graded as 8\n",
      "Reviewer: This is a generated text with the prompt: Best prompt reviewer\n",
      "Coder: This is a generated text with the prompt: Neutral prompt coder\n",
      "Code Evaluator: The code was graded as 8\n",
      "Reviewer: This is a generated text with the prompt: Best prompt reviewer\n",
      "Coder: This is a generated text with the prompt: Neutral prompt coder\n",
      "Code Evaluator: The code was graded as 8\n",
      "Reviewer: This is a generated text with the prompt: Best prompt reviewer\n",
      "Coder: This is a generated text with the prompt: Bad prompt coder\n",
      "Code Evaluator: The code was graded as 7\n",
      "Reviewer: This is a generated text with the prompt: Best prompt reviewer\n",
      "Coder: This is a generated text with the prompt: Neutral prompt coder\n",
      "Code Evaluator: The code was graded as 8\n",
      "Reviewer: This is a generated text with the prompt: Best prompt reviewer\n",
      "Coder: This is a generated text with the prompt: Neutral prompt coder\n",
      "Code Evaluator: The code was graded as 8\n",
      "Reviewer: This is a generated text with the prompt: Best prompt reviewer\n",
      "Coder: This is a generated text with the prompt: Neutral prompt coder\n",
      "Code Evaluator: The code was graded as 8\n",
      "Reviewer: This is a generated text with the prompt: Best prompt reviewer\n",
      "Coder: This is a generated text with the prompt: Neutral prompt coder\n",
      "Code Evaluator: The code was graded as 8\n",
      "Reviewer: This is a generated text with the prompt: Worst prompt reviewer\n",
      "Coder: This is a generated text with the prompt: Neutral prompt coder\n",
      "Code Evaluator: The code was graded as 4\n",
      "Reviewer: This is a generated text with the prompt: Neutral prompt reviewer\n",
      "Coder: This is a generated text with the prompt: Neutral prompt coder\n",
      "Code Evaluator: The code was graded as 6\n",
      "Reviewer: This is a generated text with the prompt: Best prompt reviewer\n",
      "Coder: This is a generated text with the prompt: Worst prompt coder\n",
      "Code Evaluator: The code was graded as 6\n",
      "Reviewer: This is a generated text with the prompt: Best prompt reviewer\n",
      "Coder: This is a generated text with the prompt: Neutral prompt coder\n",
      "Code Evaluator: The code was graded as 8\n",
      "Reviewer: This is a generated text with the prompt: Best prompt reviewer\n",
      "Coder: This is a generated text with the prompt: Neutral prompt coder\n",
      "Code Evaluator: The code was graded as 8\n",
      "Reviewer: This is a generated text with the prompt: Best prompt reviewer\n",
      "Coder: This is a generated text with the prompt: Neutral prompt coder\n",
      "Code Evaluator: The code was graded as 8\n",
      "Reviewer: This is a generated text with the prompt: Best prompt reviewer\n",
      "Coder: This is a generated text with the prompt: Neutral prompt coder\n",
      "Code Evaluator: The code was graded as 8\n",
      "Reviewer: This is a generated text with the prompt: Best prompt reviewer\n",
      "Coder: This is a generated text with the prompt: Neutral prompt coder\n",
      "Code Evaluator: The code was graded as 8\n",
      "Reviewer: This is a generated text with the prompt: Best prompt reviewer\n",
      "Coder: This is a generated text with the prompt: Neutral prompt coder\n",
      "Code Evaluator: The code was graded as 8\n",
      "Reviewer: This is a generated text with the prompt: Best prompt reviewer\n",
      "Coder: This is a generated text with the prompt: Neutral prompt coder\n",
      "Code Evaluator: The code was graded as 8\n",
      "Reviewer: This is a generated text with the prompt: Best prompt reviewer\n",
      "Coder: This is a generated text with the prompt: Neutral prompt coder\n",
      "Code Evaluator: The code was graded as 8\n",
      "Reviewer: This is a generated text with the prompt: Best prompt reviewer\n",
      "Coder: This is a generated text with the prompt: Neutral prompt coder\n",
      "Code Evaluator: The code was graded as 8\n",
      "Reviewer: This is a generated text with the prompt: Best prompt reviewer\n",
      "Coder: This is a generated text with the prompt: Neutral prompt coder\n",
      "Code Evaluator: The code was graded as 8\n",
      "Reviewer: This is a generated text with the prompt: Best prompt reviewer\n",
      "Coder: This is a generated text with the prompt: Neutral prompt coder\n",
      "Code Evaluator: The code was graded as 8\n",
      "Reviewer: This is a generated text with the prompt: Best prompt reviewer\n",
      "Coder: This is a generated text with the prompt: Neutral prompt coder\n",
      "Code Evaluator: The code was graded as 8\n",
      "Reviewer: This is a generated text with the prompt: Best prompt reviewer\n",
      "Coder: This is a generated text with the prompt: Neutral prompt coder\n",
      "Code Evaluator: The code was graded as 8\n",
      "Reviewer: This is a generated text with the prompt: Best prompt reviewer\n",
      "Coder: This is a generated text with the prompt: Neutral prompt coder\n",
      "Code Evaluator: The code was graded as 8\n",
      "Reviewer: This is a generated text with the prompt: Best prompt reviewer\n",
      "Coder: This is a generated text with the prompt: Neutral prompt coder\n",
      "Code Evaluator: The code was graded as 8\n",
      "Reviewer: This is a generated text with the prompt: Best prompt reviewer\n",
      "Coder: This is a generated text with the prompt: Good prompt coder\n",
      "Code Evaluator: The code was graded as 9\n",
      "Reviewer: This is a generated text with the prompt: Best prompt reviewer\n",
      "Coder: This is a generated text with the prompt: Good prompt coder\n",
      "Code Evaluator: The code was graded as 9\n",
      "Reviewer: This is a generated text with the prompt: Best prompt reviewer\n",
      "Coder: This is a generated text with the prompt: Good prompt coder\n",
      "Code Evaluator: The code was graded as 9\n",
      "Reviewer: This is a generated text with the prompt: Best prompt reviewer\n",
      "Coder: This is a generated text with the prompt: Good prompt coder\n",
      "Code Evaluator: The code was graded as 9\n",
      "Reviewer: This is a generated text with the prompt: Best prompt reviewer\n",
      "Coder: This is a generated text with the prompt: Good prompt coder\n",
      "Code Evaluator: The code was graded as 9\n",
      "Reviewer: This is a generated text with the prompt: Best prompt reviewer\n",
      "Coder: This is a generated text with the prompt: Good prompt coder\n",
      "Code Evaluator: The code was graded as 9\n",
      "Reviewer: This is a generated text with the prompt: Best prompt reviewer\n",
      "Coder: This is a generated text with the prompt: Good prompt coder\n",
      "Code Evaluator: The code was graded as 9\n",
      "Reviewer: This is a generated text with the prompt: Best prompt reviewer\n",
      "Coder: This is a generated text with the prompt: Good prompt coder\n",
      "Code Evaluator: The code was graded as 9\n",
      "Reviewer: This is a generated text with the prompt: Best prompt reviewer\n",
      "Coder: This is a generated text with the prompt: Good prompt coder\n",
      "Code Evaluator: The code was graded as 9\n",
      "Reviewer: This is a generated text with the prompt: Best prompt reviewer\n",
      "Coder: This is a generated text with the prompt: Good prompt coder\n",
      "Code Evaluator: The code was graded as 9\n",
      "Reviewer: This is a generated text with the prompt: Best prompt reviewer\n",
      "Coder: This is a generated text with the prompt: Best prompt coder\n",
      "Code Evaluator: The code was graded as 10\n",
      "System: ✅ Code approved. Conversation terminated.\n"
     ]
    }
   ],
   "source": [
    "# Print environment messages\n",
    "environment.print_messages()"
   ]
  },
  {
   "cell_type": "markdown",
   "metadata": {},
   "source": [
    "## Charts for Coder"
   ]
  },
  {
   "cell_type": "code",
   "execution_count": 60,
   "metadata": {},
   "outputs": [
    {
     "data": {
      "application/vnd.plotly.v1+json": {
       "config": {
        "plotlyServerURL": "https://plot.ly"
       },
       "data": [
        {
         "hovertemplate": "variable=0<br>index=%{x}<br>value=%{y}<extra></extra>",
         "legendgroup": "0",
         "line": {
          "color": "#636efa",
          "dash": "solid"
         },
         "marker": {
          "symbol": "circle"
         },
         "mode": "markers+lines",
         "name": "0",
         "orientation": "v",
         "showlegend": true,
         "type": "scatter",
         "x": [
          0,
          1,
          2,
          3,
          4,
          5,
          6,
          7,
          8,
          9,
          10,
          11,
          12,
          13,
          14,
          15,
          16,
          17,
          18,
          19,
          20,
          21,
          22,
          23,
          24,
          25,
          26,
          27,
          28,
          29,
          30,
          31,
          32,
          33,
          34,
          35,
          36,
          37,
          38,
          39,
          40,
          41,
          42,
          43,
          44,
          45,
          46,
          47,
          48,
          49,
          50,
          51,
          52,
          53,
          54,
          55,
          56,
          57,
          58,
          59,
          60,
          61,
          62,
          63,
          64,
          65,
          66,
          67,
          68,
          69,
          70
         ],
         "xaxis": "x",
         "y": [
          6,
          7,
          7,
          7,
          7,
          2,
          7,
          7,
          7,
          7,
          7,
          7,
          7,
          7,
          5,
          8,
          8,
          8,
          8,
          8,
          8,
          8,
          7,
          8,
          8,
          8,
          8,
          8,
          8,
          8,
          8,
          8,
          8,
          6,
          8,
          8,
          8,
          7,
          8,
          8,
          8,
          8,
          4,
          6,
          6,
          8,
          8,
          8,
          8,
          8,
          8,
          8,
          8,
          8,
          8,
          8,
          8,
          8,
          8,
          8,
          9,
          9,
          9,
          9,
          9,
          9,
          9,
          9,
          9,
          9,
          10
         ],
         "yaxis": "y"
        }
       ],
       "layout": {
        "legend": {
         "title": {
          "text": "variable"
         },
         "tracegroupgap": 0
        },
        "template": {
         "data": {
          "bar": [
           {
            "error_x": {
             "color": "#2a3f5f"
            },
            "error_y": {
             "color": "#2a3f5f"
            },
            "marker": {
             "line": {
              "color": "#E5ECF6",
              "width": 0.5
             },
             "pattern": {
              "fillmode": "overlay",
              "size": 10,
              "solidity": 0.2
             }
            },
            "type": "bar"
           }
          ],
          "barpolar": [
           {
            "marker": {
             "line": {
              "color": "#E5ECF6",
              "width": 0.5
             },
             "pattern": {
              "fillmode": "overlay",
              "size": 10,
              "solidity": 0.2
             }
            },
            "type": "barpolar"
           }
          ],
          "carpet": [
           {
            "aaxis": {
             "endlinecolor": "#2a3f5f",
             "gridcolor": "white",
             "linecolor": "white",
             "minorgridcolor": "white",
             "startlinecolor": "#2a3f5f"
            },
            "baxis": {
             "endlinecolor": "#2a3f5f",
             "gridcolor": "white",
             "linecolor": "white",
             "minorgridcolor": "white",
             "startlinecolor": "#2a3f5f"
            },
            "type": "carpet"
           }
          ],
          "choropleth": [
           {
            "colorbar": {
             "outlinewidth": 0,
             "ticks": ""
            },
            "type": "choropleth"
           }
          ],
          "contour": [
           {
            "colorbar": {
             "outlinewidth": 0,
             "ticks": ""
            },
            "colorscale": [
             [
              0,
              "#0d0887"
             ],
             [
              0.1111111111111111,
              "#46039f"
             ],
             [
              0.2222222222222222,
              "#7201a8"
             ],
             [
              0.3333333333333333,
              "#9c179e"
             ],
             [
              0.4444444444444444,
              "#bd3786"
             ],
             [
              0.5555555555555556,
              "#d8576b"
             ],
             [
              0.6666666666666666,
              "#ed7953"
             ],
             [
              0.7777777777777778,
              "#fb9f3a"
             ],
             [
              0.8888888888888888,
              "#fdca26"
             ],
             [
              1,
              "#f0f921"
             ]
            ],
            "type": "contour"
           }
          ],
          "contourcarpet": [
           {
            "colorbar": {
             "outlinewidth": 0,
             "ticks": ""
            },
            "type": "contourcarpet"
           }
          ],
          "heatmap": [
           {
            "colorbar": {
             "outlinewidth": 0,
             "ticks": ""
            },
            "colorscale": [
             [
              0,
              "#0d0887"
             ],
             [
              0.1111111111111111,
              "#46039f"
             ],
             [
              0.2222222222222222,
              "#7201a8"
             ],
             [
              0.3333333333333333,
              "#9c179e"
             ],
             [
              0.4444444444444444,
              "#bd3786"
             ],
             [
              0.5555555555555556,
              "#d8576b"
             ],
             [
              0.6666666666666666,
              "#ed7953"
             ],
             [
              0.7777777777777778,
              "#fb9f3a"
             ],
             [
              0.8888888888888888,
              "#fdca26"
             ],
             [
              1,
              "#f0f921"
             ]
            ],
            "type": "heatmap"
           }
          ],
          "heatmapgl": [
           {
            "colorbar": {
             "outlinewidth": 0,
             "ticks": ""
            },
            "colorscale": [
             [
              0,
              "#0d0887"
             ],
             [
              0.1111111111111111,
              "#46039f"
             ],
             [
              0.2222222222222222,
              "#7201a8"
             ],
             [
              0.3333333333333333,
              "#9c179e"
             ],
             [
              0.4444444444444444,
              "#bd3786"
             ],
             [
              0.5555555555555556,
              "#d8576b"
             ],
             [
              0.6666666666666666,
              "#ed7953"
             ],
             [
              0.7777777777777778,
              "#fb9f3a"
             ],
             [
              0.8888888888888888,
              "#fdca26"
             ],
             [
              1,
              "#f0f921"
             ]
            ],
            "type": "heatmapgl"
           }
          ],
          "histogram": [
           {
            "marker": {
             "pattern": {
              "fillmode": "overlay",
              "size": 10,
              "solidity": 0.2
             }
            },
            "type": "histogram"
           }
          ],
          "histogram2d": [
           {
            "colorbar": {
             "outlinewidth": 0,
             "ticks": ""
            },
            "colorscale": [
             [
              0,
              "#0d0887"
             ],
             [
              0.1111111111111111,
              "#46039f"
             ],
             [
              0.2222222222222222,
              "#7201a8"
             ],
             [
              0.3333333333333333,
              "#9c179e"
             ],
             [
              0.4444444444444444,
              "#bd3786"
             ],
             [
              0.5555555555555556,
              "#d8576b"
             ],
             [
              0.6666666666666666,
              "#ed7953"
             ],
             [
              0.7777777777777778,
              "#fb9f3a"
             ],
             [
              0.8888888888888888,
              "#fdca26"
             ],
             [
              1,
              "#f0f921"
             ]
            ],
            "type": "histogram2d"
           }
          ],
          "histogram2dcontour": [
           {
            "colorbar": {
             "outlinewidth": 0,
             "ticks": ""
            },
            "colorscale": [
             [
              0,
              "#0d0887"
             ],
             [
              0.1111111111111111,
              "#46039f"
             ],
             [
              0.2222222222222222,
              "#7201a8"
             ],
             [
              0.3333333333333333,
              "#9c179e"
             ],
             [
              0.4444444444444444,
              "#bd3786"
             ],
             [
              0.5555555555555556,
              "#d8576b"
             ],
             [
              0.6666666666666666,
              "#ed7953"
             ],
             [
              0.7777777777777778,
              "#fb9f3a"
             ],
             [
              0.8888888888888888,
              "#fdca26"
             ],
             [
              1,
              "#f0f921"
             ]
            ],
            "type": "histogram2dcontour"
           }
          ],
          "mesh3d": [
           {
            "colorbar": {
             "outlinewidth": 0,
             "ticks": ""
            },
            "type": "mesh3d"
           }
          ],
          "parcoords": [
           {
            "line": {
             "colorbar": {
              "outlinewidth": 0,
              "ticks": ""
             }
            },
            "type": "parcoords"
           }
          ],
          "pie": [
           {
            "automargin": true,
            "type": "pie"
           }
          ],
          "scatter": [
           {
            "fillpattern": {
             "fillmode": "overlay",
             "size": 10,
             "solidity": 0.2
            },
            "type": "scatter"
           }
          ],
          "scatter3d": [
           {
            "line": {
             "colorbar": {
              "outlinewidth": 0,
              "ticks": ""
             }
            },
            "marker": {
             "colorbar": {
              "outlinewidth": 0,
              "ticks": ""
             }
            },
            "type": "scatter3d"
           }
          ],
          "scattercarpet": [
           {
            "marker": {
             "colorbar": {
              "outlinewidth": 0,
              "ticks": ""
             }
            },
            "type": "scattercarpet"
           }
          ],
          "scattergeo": [
           {
            "marker": {
             "colorbar": {
              "outlinewidth": 0,
              "ticks": ""
             }
            },
            "type": "scattergeo"
           }
          ],
          "scattergl": [
           {
            "marker": {
             "colorbar": {
              "outlinewidth": 0,
              "ticks": ""
             }
            },
            "type": "scattergl"
           }
          ],
          "scattermapbox": [
           {
            "marker": {
             "colorbar": {
              "outlinewidth": 0,
              "ticks": ""
             }
            },
            "type": "scattermapbox"
           }
          ],
          "scatterpolar": [
           {
            "marker": {
             "colorbar": {
              "outlinewidth": 0,
              "ticks": ""
             }
            },
            "type": "scatterpolar"
           }
          ],
          "scatterpolargl": [
           {
            "marker": {
             "colorbar": {
              "outlinewidth": 0,
              "ticks": ""
             }
            },
            "type": "scatterpolargl"
           }
          ],
          "scatterternary": [
           {
            "marker": {
             "colorbar": {
              "outlinewidth": 0,
              "ticks": ""
             }
            },
            "type": "scatterternary"
           }
          ],
          "surface": [
           {
            "colorbar": {
             "outlinewidth": 0,
             "ticks": ""
            },
            "colorscale": [
             [
              0,
              "#0d0887"
             ],
             [
              0.1111111111111111,
              "#46039f"
             ],
             [
              0.2222222222222222,
              "#7201a8"
             ],
             [
              0.3333333333333333,
              "#9c179e"
             ],
             [
              0.4444444444444444,
              "#bd3786"
             ],
             [
              0.5555555555555556,
              "#d8576b"
             ],
             [
              0.6666666666666666,
              "#ed7953"
             ],
             [
              0.7777777777777778,
              "#fb9f3a"
             ],
             [
              0.8888888888888888,
              "#fdca26"
             ],
             [
              1,
              "#f0f921"
             ]
            ],
            "type": "surface"
           }
          ],
          "table": [
           {
            "cells": {
             "fill": {
              "color": "#EBF0F8"
             },
             "line": {
              "color": "white"
             }
            },
            "header": {
             "fill": {
              "color": "#C8D4E3"
             },
             "line": {
              "color": "white"
             }
            },
            "type": "table"
           }
          ]
         },
         "layout": {
          "annotationdefaults": {
           "arrowcolor": "#2a3f5f",
           "arrowhead": 0,
           "arrowwidth": 1
          },
          "autotypenumbers": "strict",
          "coloraxis": {
           "colorbar": {
            "outlinewidth": 0,
            "ticks": ""
           }
          },
          "colorscale": {
           "diverging": [
            [
             0,
             "#8e0152"
            ],
            [
             0.1,
             "#c51b7d"
            ],
            [
             0.2,
             "#de77ae"
            ],
            [
             0.3,
             "#f1b6da"
            ],
            [
             0.4,
             "#fde0ef"
            ],
            [
             0.5,
             "#f7f7f7"
            ],
            [
             0.6,
             "#e6f5d0"
            ],
            [
             0.7,
             "#b8e186"
            ],
            [
             0.8,
             "#7fbc41"
            ],
            [
             0.9,
             "#4d9221"
            ],
            [
             1,
             "#276419"
            ]
           ],
           "sequential": [
            [
             0,
             "#0d0887"
            ],
            [
             0.1111111111111111,
             "#46039f"
            ],
            [
             0.2222222222222222,
             "#7201a8"
            ],
            [
             0.3333333333333333,
             "#9c179e"
            ],
            [
             0.4444444444444444,
             "#bd3786"
            ],
            [
             0.5555555555555556,
             "#d8576b"
            ],
            [
             0.6666666666666666,
             "#ed7953"
            ],
            [
             0.7777777777777778,
             "#fb9f3a"
            ],
            [
             0.8888888888888888,
             "#fdca26"
            ],
            [
             1,
             "#f0f921"
            ]
           ],
           "sequentialminus": [
            [
             0,
             "#0d0887"
            ],
            [
             0.1111111111111111,
             "#46039f"
            ],
            [
             0.2222222222222222,
             "#7201a8"
            ],
            [
             0.3333333333333333,
             "#9c179e"
            ],
            [
             0.4444444444444444,
             "#bd3786"
            ],
            [
             0.5555555555555556,
             "#d8576b"
            ],
            [
             0.6666666666666666,
             "#ed7953"
            ],
            [
             0.7777777777777778,
             "#fb9f3a"
            ],
            [
             0.8888888888888888,
             "#fdca26"
            ],
            [
             1,
             "#f0f921"
            ]
           ]
          },
          "colorway": [
           "#636efa",
           "#EF553B",
           "#00cc96",
           "#ab63fa",
           "#FFA15A",
           "#19d3f3",
           "#FF6692",
           "#B6E880",
           "#FF97FF",
           "#FECB52"
          ],
          "font": {
           "color": "#2a3f5f"
          },
          "geo": {
           "bgcolor": "white",
           "lakecolor": "white",
           "landcolor": "#E5ECF6",
           "showlakes": true,
           "showland": true,
           "subunitcolor": "white"
          },
          "hoverlabel": {
           "align": "left"
          },
          "hovermode": "closest",
          "mapbox": {
           "style": "light"
          },
          "paper_bgcolor": "white",
          "plot_bgcolor": "#E5ECF6",
          "polar": {
           "angularaxis": {
            "gridcolor": "white",
            "linecolor": "white",
            "ticks": ""
           },
           "bgcolor": "#E5ECF6",
           "radialaxis": {
            "gridcolor": "white",
            "linecolor": "white",
            "ticks": ""
           }
          },
          "scene": {
           "xaxis": {
            "backgroundcolor": "#E5ECF6",
            "gridcolor": "white",
            "gridwidth": 2,
            "linecolor": "white",
            "showbackground": true,
            "ticks": "",
            "zerolinecolor": "white"
           },
           "yaxis": {
            "backgroundcolor": "#E5ECF6",
            "gridcolor": "white",
            "gridwidth": 2,
            "linecolor": "white",
            "showbackground": true,
            "ticks": "",
            "zerolinecolor": "white"
           },
           "zaxis": {
            "backgroundcolor": "#E5ECF6",
            "gridcolor": "white",
            "gridwidth": 2,
            "linecolor": "white",
            "showbackground": true,
            "ticks": "",
            "zerolinecolor": "white"
           }
          },
          "shapedefaults": {
           "line": {
            "color": "#2a3f5f"
           }
          },
          "ternary": {
           "aaxis": {
            "gridcolor": "white",
            "linecolor": "white",
            "ticks": ""
           },
           "baxis": {
            "gridcolor": "white",
            "linecolor": "white",
            "ticks": ""
           },
           "bgcolor": "#E5ECF6",
           "caxis": {
            "gridcolor": "white",
            "linecolor": "white",
            "ticks": ""
           }
          },
          "title": {
           "x": 0.05
          },
          "xaxis": {
           "automargin": true,
           "gridcolor": "white",
           "linecolor": "white",
           "ticks": "",
           "title": {
            "standoff": 15
           },
           "zerolinecolor": "white",
           "zerolinewidth": 2
          },
          "yaxis": {
           "automargin": true,
           "gridcolor": "white",
           "linecolor": "white",
           "ticks": "",
           "title": {
            "standoff": 15
           },
           "zerolinecolor": "white",
           "zerolinewidth": 2
          }
         }
        },
        "title": {
         "text": "Rewards for Coder over time"
        },
        "xaxis": {
         "anchor": "y",
         "domain": [
          0,
          1
         ],
         "title": {
          "text": "index"
         }
        },
        "yaxis": {
         "anchor": "x",
         "domain": [
          0,
          1
         ],
         "title": {
          "text": "value"
         }
        }
       }
      }
     },
     "metadata": {},
     "output_type": "display_data"
    }
   ],
   "source": [
    "fig_1 = px.line(\n",
    "    hist_coder_rewards,\n",
    "    markers=True,\n",
    "    title=\"Rewards for Coder over time\"\n",
    ")\n",
    "fig_1.show()"
   ]
  },
  {
   "cell_type": "code",
   "execution_count": 61,
   "metadata": {},
   "outputs": [
    {
     "data": {
      "application/vnd.plotly.v1+json": {
       "config": {
        "plotlyServerURL": "https://plot.ly"
       },
       "data": [
        {
         "alignmentgroup": "True",
         "hovertemplate": "Prompt=%{x}<br>Count=%{y}<extra></extra>",
         "legendgroup": "",
         "marker": {
          "color": "#636efa",
          "pattern": {
           "shape": ""
          }
         },
         "name": "",
         "offsetgroup": "",
         "orientation": "v",
         "showlegend": false,
         "textposition": "auto",
         "type": "bar",
         "x": [
          "Worst prompt coder",
          "Bad prompt coder",
          "Neutral prompt coder",
          "Good prompt coder",
          "Best prompt coder"
         ],
         "xaxis": "x",
         "y": [
          3,
          11,
          44,
          11,
          2
         ],
         "yaxis": "y"
        }
       ],
       "layout": {
        "barmode": "relative",
        "legend": {
         "tracegroupgap": 0
        },
        "template": {
         "data": {
          "bar": [
           {
            "error_x": {
             "color": "#2a3f5f"
            },
            "error_y": {
             "color": "#2a3f5f"
            },
            "marker": {
             "line": {
              "color": "#E5ECF6",
              "width": 0.5
             },
             "pattern": {
              "fillmode": "overlay",
              "size": 10,
              "solidity": 0.2
             }
            },
            "type": "bar"
           }
          ],
          "barpolar": [
           {
            "marker": {
             "line": {
              "color": "#E5ECF6",
              "width": 0.5
             },
             "pattern": {
              "fillmode": "overlay",
              "size": 10,
              "solidity": 0.2
             }
            },
            "type": "barpolar"
           }
          ],
          "carpet": [
           {
            "aaxis": {
             "endlinecolor": "#2a3f5f",
             "gridcolor": "white",
             "linecolor": "white",
             "minorgridcolor": "white",
             "startlinecolor": "#2a3f5f"
            },
            "baxis": {
             "endlinecolor": "#2a3f5f",
             "gridcolor": "white",
             "linecolor": "white",
             "minorgridcolor": "white",
             "startlinecolor": "#2a3f5f"
            },
            "type": "carpet"
           }
          ],
          "choropleth": [
           {
            "colorbar": {
             "outlinewidth": 0,
             "ticks": ""
            },
            "type": "choropleth"
           }
          ],
          "contour": [
           {
            "colorbar": {
             "outlinewidth": 0,
             "ticks": ""
            },
            "colorscale": [
             [
              0,
              "#0d0887"
             ],
             [
              0.1111111111111111,
              "#46039f"
             ],
             [
              0.2222222222222222,
              "#7201a8"
             ],
             [
              0.3333333333333333,
              "#9c179e"
             ],
             [
              0.4444444444444444,
              "#bd3786"
             ],
             [
              0.5555555555555556,
              "#d8576b"
             ],
             [
              0.6666666666666666,
              "#ed7953"
             ],
             [
              0.7777777777777778,
              "#fb9f3a"
             ],
             [
              0.8888888888888888,
              "#fdca26"
             ],
             [
              1,
              "#f0f921"
             ]
            ],
            "type": "contour"
           }
          ],
          "contourcarpet": [
           {
            "colorbar": {
             "outlinewidth": 0,
             "ticks": ""
            },
            "type": "contourcarpet"
           }
          ],
          "heatmap": [
           {
            "colorbar": {
             "outlinewidth": 0,
             "ticks": ""
            },
            "colorscale": [
             [
              0,
              "#0d0887"
             ],
             [
              0.1111111111111111,
              "#46039f"
             ],
             [
              0.2222222222222222,
              "#7201a8"
             ],
             [
              0.3333333333333333,
              "#9c179e"
             ],
             [
              0.4444444444444444,
              "#bd3786"
             ],
             [
              0.5555555555555556,
              "#d8576b"
             ],
             [
              0.6666666666666666,
              "#ed7953"
             ],
             [
              0.7777777777777778,
              "#fb9f3a"
             ],
             [
              0.8888888888888888,
              "#fdca26"
             ],
             [
              1,
              "#f0f921"
             ]
            ],
            "type": "heatmap"
           }
          ],
          "heatmapgl": [
           {
            "colorbar": {
             "outlinewidth": 0,
             "ticks": ""
            },
            "colorscale": [
             [
              0,
              "#0d0887"
             ],
             [
              0.1111111111111111,
              "#46039f"
             ],
             [
              0.2222222222222222,
              "#7201a8"
             ],
             [
              0.3333333333333333,
              "#9c179e"
             ],
             [
              0.4444444444444444,
              "#bd3786"
             ],
             [
              0.5555555555555556,
              "#d8576b"
             ],
             [
              0.6666666666666666,
              "#ed7953"
             ],
             [
              0.7777777777777778,
              "#fb9f3a"
             ],
             [
              0.8888888888888888,
              "#fdca26"
             ],
             [
              1,
              "#f0f921"
             ]
            ],
            "type": "heatmapgl"
           }
          ],
          "histogram": [
           {
            "marker": {
             "pattern": {
              "fillmode": "overlay",
              "size": 10,
              "solidity": 0.2
             }
            },
            "type": "histogram"
           }
          ],
          "histogram2d": [
           {
            "colorbar": {
             "outlinewidth": 0,
             "ticks": ""
            },
            "colorscale": [
             [
              0,
              "#0d0887"
             ],
             [
              0.1111111111111111,
              "#46039f"
             ],
             [
              0.2222222222222222,
              "#7201a8"
             ],
             [
              0.3333333333333333,
              "#9c179e"
             ],
             [
              0.4444444444444444,
              "#bd3786"
             ],
             [
              0.5555555555555556,
              "#d8576b"
             ],
             [
              0.6666666666666666,
              "#ed7953"
             ],
             [
              0.7777777777777778,
              "#fb9f3a"
             ],
             [
              0.8888888888888888,
              "#fdca26"
             ],
             [
              1,
              "#f0f921"
             ]
            ],
            "type": "histogram2d"
           }
          ],
          "histogram2dcontour": [
           {
            "colorbar": {
             "outlinewidth": 0,
             "ticks": ""
            },
            "colorscale": [
             [
              0,
              "#0d0887"
             ],
             [
              0.1111111111111111,
              "#46039f"
             ],
             [
              0.2222222222222222,
              "#7201a8"
             ],
             [
              0.3333333333333333,
              "#9c179e"
             ],
             [
              0.4444444444444444,
              "#bd3786"
             ],
             [
              0.5555555555555556,
              "#d8576b"
             ],
             [
              0.6666666666666666,
              "#ed7953"
             ],
             [
              0.7777777777777778,
              "#fb9f3a"
             ],
             [
              0.8888888888888888,
              "#fdca26"
             ],
             [
              1,
              "#f0f921"
             ]
            ],
            "type": "histogram2dcontour"
           }
          ],
          "mesh3d": [
           {
            "colorbar": {
             "outlinewidth": 0,
             "ticks": ""
            },
            "type": "mesh3d"
           }
          ],
          "parcoords": [
           {
            "line": {
             "colorbar": {
              "outlinewidth": 0,
              "ticks": ""
             }
            },
            "type": "parcoords"
           }
          ],
          "pie": [
           {
            "automargin": true,
            "type": "pie"
           }
          ],
          "scatter": [
           {
            "fillpattern": {
             "fillmode": "overlay",
             "size": 10,
             "solidity": 0.2
            },
            "type": "scatter"
           }
          ],
          "scatter3d": [
           {
            "line": {
             "colorbar": {
              "outlinewidth": 0,
              "ticks": ""
             }
            },
            "marker": {
             "colorbar": {
              "outlinewidth": 0,
              "ticks": ""
             }
            },
            "type": "scatter3d"
           }
          ],
          "scattercarpet": [
           {
            "marker": {
             "colorbar": {
              "outlinewidth": 0,
              "ticks": ""
             }
            },
            "type": "scattercarpet"
           }
          ],
          "scattergeo": [
           {
            "marker": {
             "colorbar": {
              "outlinewidth": 0,
              "ticks": ""
             }
            },
            "type": "scattergeo"
           }
          ],
          "scattergl": [
           {
            "marker": {
             "colorbar": {
              "outlinewidth": 0,
              "ticks": ""
             }
            },
            "type": "scattergl"
           }
          ],
          "scattermapbox": [
           {
            "marker": {
             "colorbar": {
              "outlinewidth": 0,
              "ticks": ""
             }
            },
            "type": "scattermapbox"
           }
          ],
          "scatterpolar": [
           {
            "marker": {
             "colorbar": {
              "outlinewidth": 0,
              "ticks": ""
             }
            },
            "type": "scatterpolar"
           }
          ],
          "scatterpolargl": [
           {
            "marker": {
             "colorbar": {
              "outlinewidth": 0,
              "ticks": ""
             }
            },
            "type": "scatterpolargl"
           }
          ],
          "scatterternary": [
           {
            "marker": {
             "colorbar": {
              "outlinewidth": 0,
              "ticks": ""
             }
            },
            "type": "scatterternary"
           }
          ],
          "surface": [
           {
            "colorbar": {
             "outlinewidth": 0,
             "ticks": ""
            },
            "colorscale": [
             [
              0,
              "#0d0887"
             ],
             [
              0.1111111111111111,
              "#46039f"
             ],
             [
              0.2222222222222222,
              "#7201a8"
             ],
             [
              0.3333333333333333,
              "#9c179e"
             ],
             [
              0.4444444444444444,
              "#bd3786"
             ],
             [
              0.5555555555555556,
              "#d8576b"
             ],
             [
              0.6666666666666666,
              "#ed7953"
             ],
             [
              0.7777777777777778,
              "#fb9f3a"
             ],
             [
              0.8888888888888888,
              "#fdca26"
             ],
             [
              1,
              "#f0f921"
             ]
            ],
            "type": "surface"
           }
          ],
          "table": [
           {
            "cells": {
             "fill": {
              "color": "#EBF0F8"
             },
             "line": {
              "color": "white"
             }
            },
            "header": {
             "fill": {
              "color": "#C8D4E3"
             },
             "line": {
              "color": "white"
             }
            },
            "type": "table"
           }
          ]
         },
         "layout": {
          "annotationdefaults": {
           "arrowcolor": "#2a3f5f",
           "arrowhead": 0,
           "arrowwidth": 1
          },
          "autotypenumbers": "strict",
          "coloraxis": {
           "colorbar": {
            "outlinewidth": 0,
            "ticks": ""
           }
          },
          "colorscale": {
           "diverging": [
            [
             0,
             "#8e0152"
            ],
            [
             0.1,
             "#c51b7d"
            ],
            [
             0.2,
             "#de77ae"
            ],
            [
             0.3,
             "#f1b6da"
            ],
            [
             0.4,
             "#fde0ef"
            ],
            [
             0.5,
             "#f7f7f7"
            ],
            [
             0.6,
             "#e6f5d0"
            ],
            [
             0.7,
             "#b8e186"
            ],
            [
             0.8,
             "#7fbc41"
            ],
            [
             0.9,
             "#4d9221"
            ],
            [
             1,
             "#276419"
            ]
           ],
           "sequential": [
            [
             0,
             "#0d0887"
            ],
            [
             0.1111111111111111,
             "#46039f"
            ],
            [
             0.2222222222222222,
             "#7201a8"
            ],
            [
             0.3333333333333333,
             "#9c179e"
            ],
            [
             0.4444444444444444,
             "#bd3786"
            ],
            [
             0.5555555555555556,
             "#d8576b"
            ],
            [
             0.6666666666666666,
             "#ed7953"
            ],
            [
             0.7777777777777778,
             "#fb9f3a"
            ],
            [
             0.8888888888888888,
             "#fdca26"
            ],
            [
             1,
             "#f0f921"
            ]
           ],
           "sequentialminus": [
            [
             0,
             "#0d0887"
            ],
            [
             0.1111111111111111,
             "#46039f"
            ],
            [
             0.2222222222222222,
             "#7201a8"
            ],
            [
             0.3333333333333333,
             "#9c179e"
            ],
            [
             0.4444444444444444,
             "#bd3786"
            ],
            [
             0.5555555555555556,
             "#d8576b"
            ],
            [
             0.6666666666666666,
             "#ed7953"
            ],
            [
             0.7777777777777778,
             "#fb9f3a"
            ],
            [
             0.8888888888888888,
             "#fdca26"
            ],
            [
             1,
             "#f0f921"
            ]
           ]
          },
          "colorway": [
           "#636efa",
           "#EF553B",
           "#00cc96",
           "#ab63fa",
           "#FFA15A",
           "#19d3f3",
           "#FF6692",
           "#B6E880",
           "#FF97FF",
           "#FECB52"
          ],
          "font": {
           "color": "#2a3f5f"
          },
          "geo": {
           "bgcolor": "white",
           "lakecolor": "white",
           "landcolor": "#E5ECF6",
           "showlakes": true,
           "showland": true,
           "subunitcolor": "white"
          },
          "hoverlabel": {
           "align": "left"
          },
          "hovermode": "closest",
          "mapbox": {
           "style": "light"
          },
          "paper_bgcolor": "white",
          "plot_bgcolor": "#E5ECF6",
          "polar": {
           "angularaxis": {
            "gridcolor": "white",
            "linecolor": "white",
            "ticks": ""
           },
           "bgcolor": "#E5ECF6",
           "radialaxis": {
            "gridcolor": "white",
            "linecolor": "white",
            "ticks": ""
           }
          },
          "scene": {
           "xaxis": {
            "backgroundcolor": "#E5ECF6",
            "gridcolor": "white",
            "gridwidth": 2,
            "linecolor": "white",
            "showbackground": true,
            "ticks": "",
            "zerolinecolor": "white"
           },
           "yaxis": {
            "backgroundcolor": "#E5ECF6",
            "gridcolor": "white",
            "gridwidth": 2,
            "linecolor": "white",
            "showbackground": true,
            "ticks": "",
            "zerolinecolor": "white"
           },
           "zaxis": {
            "backgroundcolor": "#E5ECF6",
            "gridcolor": "white",
            "gridwidth": 2,
            "linecolor": "white",
            "showbackground": true,
            "ticks": "",
            "zerolinecolor": "white"
           }
          },
          "shapedefaults": {
           "line": {
            "color": "#2a3f5f"
           }
          },
          "ternary": {
           "aaxis": {
            "gridcolor": "white",
            "linecolor": "white",
            "ticks": ""
           },
           "baxis": {
            "gridcolor": "white",
            "linecolor": "white",
            "ticks": ""
           },
           "bgcolor": "#E5ECF6",
           "caxis": {
            "gridcolor": "white",
            "linecolor": "white",
            "ticks": ""
           }
          },
          "title": {
           "x": 0.05
          },
          "xaxis": {
           "automargin": true,
           "gridcolor": "white",
           "linecolor": "white",
           "ticks": "",
           "title": {
            "standoff": 15
           },
           "zerolinecolor": "white",
           "zerolinewidth": 2
          },
          "yaxis": {
           "automargin": true,
           "gridcolor": "white",
           "linecolor": "white",
           "ticks": "",
           "title": {
            "standoff": 15
           },
           "zerolinecolor": "white",
           "zerolinewidth": 2
          }
         }
        },
        "title": {
         "text": "Prompt counts for Coder"
        },
        "xaxis": {
         "anchor": "y",
         "domain": [
          0,
          1
         ],
         "title": {
          "text": "Prompt"
         }
        },
        "yaxis": {
         "anchor": "x",
         "domain": [
          0,
          1
         ],
         "title": {
          "text": "Count"
         }
        }
       }
      }
     },
     "metadata": {},
     "output_type": "display_data"
    }
   ],
   "source": [
    "coder_action_counts = agent_coder.agent.action_counts\n",
    "coder_prompts = agent_coder.prompts\n",
    "prompt_counts_df = pd.DataFrame({\n",
    "    \"Prompt\": coder_prompts,\n",
    "    \"Count\": coder_action_counts\n",
    "})\n",
    "fig_2 = px.bar(\n",
    "    prompt_counts_df,\n",
    "    x=\"Prompt\",\n",
    "    y=\"Count\",\n",
    "    title=\"Prompt counts for Coder\"\n",
    ")\n",
    "fig_2.show()"
   ]
  },
  {
   "cell_type": "markdown",
   "metadata": {},
   "source": [
    "## Charts for Reviewer"
   ]
  },
  {
   "cell_type": "code",
   "execution_count": 62,
   "metadata": {},
   "outputs": [
    {
     "data": {
      "application/vnd.plotly.v1+json": {
       "config": {
        "plotlyServerURL": "https://plot.ly"
       },
       "data": [
        {
         "hovertemplate": "variable=0<br>index=%{x}<br>value=%{y}<extra></extra>",
         "legendgroup": "0",
         "line": {
          "color": "#636efa",
          "dash": "solid"
         },
         "marker": {
          "symbol": "circle"
         },
         "mode": "markers+lines",
         "name": "0",
         "orientation": "v",
         "showlegend": true,
         "type": "scatter",
         "x": [
          0,
          1,
          2,
          3,
          4,
          5,
          6,
          7,
          8,
          9,
          10,
          11,
          12,
          13,
          14,
          15,
          16,
          17,
          18,
          19,
          20,
          21,
          22,
          23,
          24,
          25,
          26,
          27,
          28,
          29,
          30,
          31,
          32,
          33,
          34,
          35,
          36,
          37,
          38,
          39,
          40,
          41,
          42,
          43,
          44,
          45,
          46,
          47,
          48,
          49,
          50,
          51,
          52,
          53,
          54,
          55,
          56,
          57,
          58,
          59,
          60,
          61,
          62,
          63,
          64,
          65,
          66,
          67,
          68,
          69
         ],
         "xaxis": "x",
         "y": [
          7,
          7,
          7,
          7,
          2,
          7,
          7,
          7,
          7,
          7,
          7,
          7,
          7,
          5,
          8,
          8,
          8,
          8,
          8,
          8,
          8,
          7,
          8,
          8,
          8,
          8,
          8,
          8,
          8,
          8,
          8,
          8,
          6,
          8,
          8,
          8,
          7,
          8,
          8,
          8,
          8,
          4,
          6,
          6,
          8,
          8,
          8,
          8,
          8,
          8,
          8,
          8,
          8,
          8,
          8,
          8,
          8,
          8,
          8,
          9,
          9,
          9,
          9,
          9,
          9,
          9,
          9,
          9,
          9,
          10
         ],
         "yaxis": "y"
        }
       ],
       "layout": {
        "legend": {
         "title": {
          "text": "variable"
         },
         "tracegroupgap": 0
        },
        "template": {
         "data": {
          "bar": [
           {
            "error_x": {
             "color": "#2a3f5f"
            },
            "error_y": {
             "color": "#2a3f5f"
            },
            "marker": {
             "line": {
              "color": "#E5ECF6",
              "width": 0.5
             },
             "pattern": {
              "fillmode": "overlay",
              "size": 10,
              "solidity": 0.2
             }
            },
            "type": "bar"
           }
          ],
          "barpolar": [
           {
            "marker": {
             "line": {
              "color": "#E5ECF6",
              "width": 0.5
             },
             "pattern": {
              "fillmode": "overlay",
              "size": 10,
              "solidity": 0.2
             }
            },
            "type": "barpolar"
           }
          ],
          "carpet": [
           {
            "aaxis": {
             "endlinecolor": "#2a3f5f",
             "gridcolor": "white",
             "linecolor": "white",
             "minorgridcolor": "white",
             "startlinecolor": "#2a3f5f"
            },
            "baxis": {
             "endlinecolor": "#2a3f5f",
             "gridcolor": "white",
             "linecolor": "white",
             "minorgridcolor": "white",
             "startlinecolor": "#2a3f5f"
            },
            "type": "carpet"
           }
          ],
          "choropleth": [
           {
            "colorbar": {
             "outlinewidth": 0,
             "ticks": ""
            },
            "type": "choropleth"
           }
          ],
          "contour": [
           {
            "colorbar": {
             "outlinewidth": 0,
             "ticks": ""
            },
            "colorscale": [
             [
              0,
              "#0d0887"
             ],
             [
              0.1111111111111111,
              "#46039f"
             ],
             [
              0.2222222222222222,
              "#7201a8"
             ],
             [
              0.3333333333333333,
              "#9c179e"
             ],
             [
              0.4444444444444444,
              "#bd3786"
             ],
             [
              0.5555555555555556,
              "#d8576b"
             ],
             [
              0.6666666666666666,
              "#ed7953"
             ],
             [
              0.7777777777777778,
              "#fb9f3a"
             ],
             [
              0.8888888888888888,
              "#fdca26"
             ],
             [
              1,
              "#f0f921"
             ]
            ],
            "type": "contour"
           }
          ],
          "contourcarpet": [
           {
            "colorbar": {
             "outlinewidth": 0,
             "ticks": ""
            },
            "type": "contourcarpet"
           }
          ],
          "heatmap": [
           {
            "colorbar": {
             "outlinewidth": 0,
             "ticks": ""
            },
            "colorscale": [
             [
              0,
              "#0d0887"
             ],
             [
              0.1111111111111111,
              "#46039f"
             ],
             [
              0.2222222222222222,
              "#7201a8"
             ],
             [
              0.3333333333333333,
              "#9c179e"
             ],
             [
              0.4444444444444444,
              "#bd3786"
             ],
             [
              0.5555555555555556,
              "#d8576b"
             ],
             [
              0.6666666666666666,
              "#ed7953"
             ],
             [
              0.7777777777777778,
              "#fb9f3a"
             ],
             [
              0.8888888888888888,
              "#fdca26"
             ],
             [
              1,
              "#f0f921"
             ]
            ],
            "type": "heatmap"
           }
          ],
          "heatmapgl": [
           {
            "colorbar": {
             "outlinewidth": 0,
             "ticks": ""
            },
            "colorscale": [
             [
              0,
              "#0d0887"
             ],
             [
              0.1111111111111111,
              "#46039f"
             ],
             [
              0.2222222222222222,
              "#7201a8"
             ],
             [
              0.3333333333333333,
              "#9c179e"
             ],
             [
              0.4444444444444444,
              "#bd3786"
             ],
             [
              0.5555555555555556,
              "#d8576b"
             ],
             [
              0.6666666666666666,
              "#ed7953"
             ],
             [
              0.7777777777777778,
              "#fb9f3a"
             ],
             [
              0.8888888888888888,
              "#fdca26"
             ],
             [
              1,
              "#f0f921"
             ]
            ],
            "type": "heatmapgl"
           }
          ],
          "histogram": [
           {
            "marker": {
             "pattern": {
              "fillmode": "overlay",
              "size": 10,
              "solidity": 0.2
             }
            },
            "type": "histogram"
           }
          ],
          "histogram2d": [
           {
            "colorbar": {
             "outlinewidth": 0,
             "ticks": ""
            },
            "colorscale": [
             [
              0,
              "#0d0887"
             ],
             [
              0.1111111111111111,
              "#46039f"
             ],
             [
              0.2222222222222222,
              "#7201a8"
             ],
             [
              0.3333333333333333,
              "#9c179e"
             ],
             [
              0.4444444444444444,
              "#bd3786"
             ],
             [
              0.5555555555555556,
              "#d8576b"
             ],
             [
              0.6666666666666666,
              "#ed7953"
             ],
             [
              0.7777777777777778,
              "#fb9f3a"
             ],
             [
              0.8888888888888888,
              "#fdca26"
             ],
             [
              1,
              "#f0f921"
             ]
            ],
            "type": "histogram2d"
           }
          ],
          "histogram2dcontour": [
           {
            "colorbar": {
             "outlinewidth": 0,
             "ticks": ""
            },
            "colorscale": [
             [
              0,
              "#0d0887"
             ],
             [
              0.1111111111111111,
              "#46039f"
             ],
             [
              0.2222222222222222,
              "#7201a8"
             ],
             [
              0.3333333333333333,
              "#9c179e"
             ],
             [
              0.4444444444444444,
              "#bd3786"
             ],
             [
              0.5555555555555556,
              "#d8576b"
             ],
             [
              0.6666666666666666,
              "#ed7953"
             ],
             [
              0.7777777777777778,
              "#fb9f3a"
             ],
             [
              0.8888888888888888,
              "#fdca26"
             ],
             [
              1,
              "#f0f921"
             ]
            ],
            "type": "histogram2dcontour"
           }
          ],
          "mesh3d": [
           {
            "colorbar": {
             "outlinewidth": 0,
             "ticks": ""
            },
            "type": "mesh3d"
           }
          ],
          "parcoords": [
           {
            "line": {
             "colorbar": {
              "outlinewidth": 0,
              "ticks": ""
             }
            },
            "type": "parcoords"
           }
          ],
          "pie": [
           {
            "automargin": true,
            "type": "pie"
           }
          ],
          "scatter": [
           {
            "fillpattern": {
             "fillmode": "overlay",
             "size": 10,
             "solidity": 0.2
            },
            "type": "scatter"
           }
          ],
          "scatter3d": [
           {
            "line": {
             "colorbar": {
              "outlinewidth": 0,
              "ticks": ""
             }
            },
            "marker": {
             "colorbar": {
              "outlinewidth": 0,
              "ticks": ""
             }
            },
            "type": "scatter3d"
           }
          ],
          "scattercarpet": [
           {
            "marker": {
             "colorbar": {
              "outlinewidth": 0,
              "ticks": ""
             }
            },
            "type": "scattercarpet"
           }
          ],
          "scattergeo": [
           {
            "marker": {
             "colorbar": {
              "outlinewidth": 0,
              "ticks": ""
             }
            },
            "type": "scattergeo"
           }
          ],
          "scattergl": [
           {
            "marker": {
             "colorbar": {
              "outlinewidth": 0,
              "ticks": ""
             }
            },
            "type": "scattergl"
           }
          ],
          "scattermapbox": [
           {
            "marker": {
             "colorbar": {
              "outlinewidth": 0,
              "ticks": ""
             }
            },
            "type": "scattermapbox"
           }
          ],
          "scatterpolar": [
           {
            "marker": {
             "colorbar": {
              "outlinewidth": 0,
              "ticks": ""
             }
            },
            "type": "scatterpolar"
           }
          ],
          "scatterpolargl": [
           {
            "marker": {
             "colorbar": {
              "outlinewidth": 0,
              "ticks": ""
             }
            },
            "type": "scatterpolargl"
           }
          ],
          "scatterternary": [
           {
            "marker": {
             "colorbar": {
              "outlinewidth": 0,
              "ticks": ""
             }
            },
            "type": "scatterternary"
           }
          ],
          "surface": [
           {
            "colorbar": {
             "outlinewidth": 0,
             "ticks": ""
            },
            "colorscale": [
             [
              0,
              "#0d0887"
             ],
             [
              0.1111111111111111,
              "#46039f"
             ],
             [
              0.2222222222222222,
              "#7201a8"
             ],
             [
              0.3333333333333333,
              "#9c179e"
             ],
             [
              0.4444444444444444,
              "#bd3786"
             ],
             [
              0.5555555555555556,
              "#d8576b"
             ],
             [
              0.6666666666666666,
              "#ed7953"
             ],
             [
              0.7777777777777778,
              "#fb9f3a"
             ],
             [
              0.8888888888888888,
              "#fdca26"
             ],
             [
              1,
              "#f0f921"
             ]
            ],
            "type": "surface"
           }
          ],
          "table": [
           {
            "cells": {
             "fill": {
              "color": "#EBF0F8"
             },
             "line": {
              "color": "white"
             }
            },
            "header": {
             "fill": {
              "color": "#C8D4E3"
             },
             "line": {
              "color": "white"
             }
            },
            "type": "table"
           }
          ]
         },
         "layout": {
          "annotationdefaults": {
           "arrowcolor": "#2a3f5f",
           "arrowhead": 0,
           "arrowwidth": 1
          },
          "autotypenumbers": "strict",
          "coloraxis": {
           "colorbar": {
            "outlinewidth": 0,
            "ticks": ""
           }
          },
          "colorscale": {
           "diverging": [
            [
             0,
             "#8e0152"
            ],
            [
             0.1,
             "#c51b7d"
            ],
            [
             0.2,
             "#de77ae"
            ],
            [
             0.3,
             "#f1b6da"
            ],
            [
             0.4,
             "#fde0ef"
            ],
            [
             0.5,
             "#f7f7f7"
            ],
            [
             0.6,
             "#e6f5d0"
            ],
            [
             0.7,
             "#b8e186"
            ],
            [
             0.8,
             "#7fbc41"
            ],
            [
             0.9,
             "#4d9221"
            ],
            [
             1,
             "#276419"
            ]
           ],
           "sequential": [
            [
             0,
             "#0d0887"
            ],
            [
             0.1111111111111111,
             "#46039f"
            ],
            [
             0.2222222222222222,
             "#7201a8"
            ],
            [
             0.3333333333333333,
             "#9c179e"
            ],
            [
             0.4444444444444444,
             "#bd3786"
            ],
            [
             0.5555555555555556,
             "#d8576b"
            ],
            [
             0.6666666666666666,
             "#ed7953"
            ],
            [
             0.7777777777777778,
             "#fb9f3a"
            ],
            [
             0.8888888888888888,
             "#fdca26"
            ],
            [
             1,
             "#f0f921"
            ]
           ],
           "sequentialminus": [
            [
             0,
             "#0d0887"
            ],
            [
             0.1111111111111111,
             "#46039f"
            ],
            [
             0.2222222222222222,
             "#7201a8"
            ],
            [
             0.3333333333333333,
             "#9c179e"
            ],
            [
             0.4444444444444444,
             "#bd3786"
            ],
            [
             0.5555555555555556,
             "#d8576b"
            ],
            [
             0.6666666666666666,
             "#ed7953"
            ],
            [
             0.7777777777777778,
             "#fb9f3a"
            ],
            [
             0.8888888888888888,
             "#fdca26"
            ],
            [
             1,
             "#f0f921"
            ]
           ]
          },
          "colorway": [
           "#636efa",
           "#EF553B",
           "#00cc96",
           "#ab63fa",
           "#FFA15A",
           "#19d3f3",
           "#FF6692",
           "#B6E880",
           "#FF97FF",
           "#FECB52"
          ],
          "font": {
           "color": "#2a3f5f"
          },
          "geo": {
           "bgcolor": "white",
           "lakecolor": "white",
           "landcolor": "#E5ECF6",
           "showlakes": true,
           "showland": true,
           "subunitcolor": "white"
          },
          "hoverlabel": {
           "align": "left"
          },
          "hovermode": "closest",
          "mapbox": {
           "style": "light"
          },
          "paper_bgcolor": "white",
          "plot_bgcolor": "#E5ECF6",
          "polar": {
           "angularaxis": {
            "gridcolor": "white",
            "linecolor": "white",
            "ticks": ""
           },
           "bgcolor": "#E5ECF6",
           "radialaxis": {
            "gridcolor": "white",
            "linecolor": "white",
            "ticks": ""
           }
          },
          "scene": {
           "xaxis": {
            "backgroundcolor": "#E5ECF6",
            "gridcolor": "white",
            "gridwidth": 2,
            "linecolor": "white",
            "showbackground": true,
            "ticks": "",
            "zerolinecolor": "white"
           },
           "yaxis": {
            "backgroundcolor": "#E5ECF6",
            "gridcolor": "white",
            "gridwidth": 2,
            "linecolor": "white",
            "showbackground": true,
            "ticks": "",
            "zerolinecolor": "white"
           },
           "zaxis": {
            "backgroundcolor": "#E5ECF6",
            "gridcolor": "white",
            "gridwidth": 2,
            "linecolor": "white",
            "showbackground": true,
            "ticks": "",
            "zerolinecolor": "white"
           }
          },
          "shapedefaults": {
           "line": {
            "color": "#2a3f5f"
           }
          },
          "ternary": {
           "aaxis": {
            "gridcolor": "white",
            "linecolor": "white",
            "ticks": ""
           },
           "baxis": {
            "gridcolor": "white",
            "linecolor": "white",
            "ticks": ""
           },
           "bgcolor": "#E5ECF6",
           "caxis": {
            "gridcolor": "white",
            "linecolor": "white",
            "ticks": ""
           }
          },
          "title": {
           "x": 0.05
          },
          "xaxis": {
           "automargin": true,
           "gridcolor": "white",
           "linecolor": "white",
           "ticks": "",
           "title": {
            "standoff": 15
           },
           "zerolinecolor": "white",
           "zerolinewidth": 2
          },
          "yaxis": {
           "automargin": true,
           "gridcolor": "white",
           "linecolor": "white",
           "ticks": "",
           "title": {
            "standoff": 15
           },
           "zerolinecolor": "white",
           "zerolinewidth": 2
          }
         }
        },
        "title": {
         "text": "Rewards for Reviewer over time"
        },
        "xaxis": {
         "anchor": "y",
         "domain": [
          0,
          1
         ],
         "title": {
          "text": "index"
         }
        },
        "yaxis": {
         "anchor": "x",
         "domain": [
          0,
          1
         ],
         "title": {
          "text": "value"
         }
        }
       }
      }
     },
     "metadata": {},
     "output_type": "display_data"
    }
   ],
   "source": [
    "fig_1 = px.line(\n",
    "    hist_reviewer_rewards,\n",
    "    markers=True,\n",
    "    title=\"Rewards for Reviewer over time\"\n",
    ")\n",
    "fig_1.show()"
   ]
  },
  {
   "cell_type": "code",
   "execution_count": 63,
   "metadata": {},
   "outputs": [
    {
     "data": {
      "application/vnd.plotly.v1+json": {
       "config": {
        "plotlyServerURL": "https://plot.ly"
       },
       "data": [
        {
         "alignmentgroup": "True",
         "hovertemplate": "Prompt=%{x}<br>Count=%{y}<extra></extra>",
         "legendgroup": "",
         "marker": {
          "color": "#636efa",
          "pattern": {
           "shape": ""
          }
         },
         "name": "",
         "offsetgroup": "",
         "orientation": "v",
         "showlegend": false,
         "textposition": "auto",
         "type": "bar",
         "x": [
          "Best prompt reviewer",
          "Good prompt reviewer",
          "Neutral prompt reviewer",
          "Bad prompt reviewer",
          "Worst prompt reviewer"
         ],
         "xaxis": "x",
         "y": [
          61,
          2,
          4,
          1,
          2
         ],
         "yaxis": "y"
        }
       ],
       "layout": {
        "barmode": "relative",
        "legend": {
         "tracegroupgap": 0
        },
        "template": {
         "data": {
          "bar": [
           {
            "error_x": {
             "color": "#2a3f5f"
            },
            "error_y": {
             "color": "#2a3f5f"
            },
            "marker": {
             "line": {
              "color": "#E5ECF6",
              "width": 0.5
             },
             "pattern": {
              "fillmode": "overlay",
              "size": 10,
              "solidity": 0.2
             }
            },
            "type": "bar"
           }
          ],
          "barpolar": [
           {
            "marker": {
             "line": {
              "color": "#E5ECF6",
              "width": 0.5
             },
             "pattern": {
              "fillmode": "overlay",
              "size": 10,
              "solidity": 0.2
             }
            },
            "type": "barpolar"
           }
          ],
          "carpet": [
           {
            "aaxis": {
             "endlinecolor": "#2a3f5f",
             "gridcolor": "white",
             "linecolor": "white",
             "minorgridcolor": "white",
             "startlinecolor": "#2a3f5f"
            },
            "baxis": {
             "endlinecolor": "#2a3f5f",
             "gridcolor": "white",
             "linecolor": "white",
             "minorgridcolor": "white",
             "startlinecolor": "#2a3f5f"
            },
            "type": "carpet"
           }
          ],
          "choropleth": [
           {
            "colorbar": {
             "outlinewidth": 0,
             "ticks": ""
            },
            "type": "choropleth"
           }
          ],
          "contour": [
           {
            "colorbar": {
             "outlinewidth": 0,
             "ticks": ""
            },
            "colorscale": [
             [
              0,
              "#0d0887"
             ],
             [
              0.1111111111111111,
              "#46039f"
             ],
             [
              0.2222222222222222,
              "#7201a8"
             ],
             [
              0.3333333333333333,
              "#9c179e"
             ],
             [
              0.4444444444444444,
              "#bd3786"
             ],
             [
              0.5555555555555556,
              "#d8576b"
             ],
             [
              0.6666666666666666,
              "#ed7953"
             ],
             [
              0.7777777777777778,
              "#fb9f3a"
             ],
             [
              0.8888888888888888,
              "#fdca26"
             ],
             [
              1,
              "#f0f921"
             ]
            ],
            "type": "contour"
           }
          ],
          "contourcarpet": [
           {
            "colorbar": {
             "outlinewidth": 0,
             "ticks": ""
            },
            "type": "contourcarpet"
           }
          ],
          "heatmap": [
           {
            "colorbar": {
             "outlinewidth": 0,
             "ticks": ""
            },
            "colorscale": [
             [
              0,
              "#0d0887"
             ],
             [
              0.1111111111111111,
              "#46039f"
             ],
             [
              0.2222222222222222,
              "#7201a8"
             ],
             [
              0.3333333333333333,
              "#9c179e"
             ],
             [
              0.4444444444444444,
              "#bd3786"
             ],
             [
              0.5555555555555556,
              "#d8576b"
             ],
             [
              0.6666666666666666,
              "#ed7953"
             ],
             [
              0.7777777777777778,
              "#fb9f3a"
             ],
             [
              0.8888888888888888,
              "#fdca26"
             ],
             [
              1,
              "#f0f921"
             ]
            ],
            "type": "heatmap"
           }
          ],
          "heatmapgl": [
           {
            "colorbar": {
             "outlinewidth": 0,
             "ticks": ""
            },
            "colorscale": [
             [
              0,
              "#0d0887"
             ],
             [
              0.1111111111111111,
              "#46039f"
             ],
             [
              0.2222222222222222,
              "#7201a8"
             ],
             [
              0.3333333333333333,
              "#9c179e"
             ],
             [
              0.4444444444444444,
              "#bd3786"
             ],
             [
              0.5555555555555556,
              "#d8576b"
             ],
             [
              0.6666666666666666,
              "#ed7953"
             ],
             [
              0.7777777777777778,
              "#fb9f3a"
             ],
             [
              0.8888888888888888,
              "#fdca26"
             ],
             [
              1,
              "#f0f921"
             ]
            ],
            "type": "heatmapgl"
           }
          ],
          "histogram": [
           {
            "marker": {
             "pattern": {
              "fillmode": "overlay",
              "size": 10,
              "solidity": 0.2
             }
            },
            "type": "histogram"
           }
          ],
          "histogram2d": [
           {
            "colorbar": {
             "outlinewidth": 0,
             "ticks": ""
            },
            "colorscale": [
             [
              0,
              "#0d0887"
             ],
             [
              0.1111111111111111,
              "#46039f"
             ],
             [
              0.2222222222222222,
              "#7201a8"
             ],
             [
              0.3333333333333333,
              "#9c179e"
             ],
             [
              0.4444444444444444,
              "#bd3786"
             ],
             [
              0.5555555555555556,
              "#d8576b"
             ],
             [
              0.6666666666666666,
              "#ed7953"
             ],
             [
              0.7777777777777778,
              "#fb9f3a"
             ],
             [
              0.8888888888888888,
              "#fdca26"
             ],
             [
              1,
              "#f0f921"
             ]
            ],
            "type": "histogram2d"
           }
          ],
          "histogram2dcontour": [
           {
            "colorbar": {
             "outlinewidth": 0,
             "ticks": ""
            },
            "colorscale": [
             [
              0,
              "#0d0887"
             ],
             [
              0.1111111111111111,
              "#46039f"
             ],
             [
              0.2222222222222222,
              "#7201a8"
             ],
             [
              0.3333333333333333,
              "#9c179e"
             ],
             [
              0.4444444444444444,
              "#bd3786"
             ],
             [
              0.5555555555555556,
              "#d8576b"
             ],
             [
              0.6666666666666666,
              "#ed7953"
             ],
             [
              0.7777777777777778,
              "#fb9f3a"
             ],
             [
              0.8888888888888888,
              "#fdca26"
             ],
             [
              1,
              "#f0f921"
             ]
            ],
            "type": "histogram2dcontour"
           }
          ],
          "mesh3d": [
           {
            "colorbar": {
             "outlinewidth": 0,
             "ticks": ""
            },
            "type": "mesh3d"
           }
          ],
          "parcoords": [
           {
            "line": {
             "colorbar": {
              "outlinewidth": 0,
              "ticks": ""
             }
            },
            "type": "parcoords"
           }
          ],
          "pie": [
           {
            "automargin": true,
            "type": "pie"
           }
          ],
          "scatter": [
           {
            "fillpattern": {
             "fillmode": "overlay",
             "size": 10,
             "solidity": 0.2
            },
            "type": "scatter"
           }
          ],
          "scatter3d": [
           {
            "line": {
             "colorbar": {
              "outlinewidth": 0,
              "ticks": ""
             }
            },
            "marker": {
             "colorbar": {
              "outlinewidth": 0,
              "ticks": ""
             }
            },
            "type": "scatter3d"
           }
          ],
          "scattercarpet": [
           {
            "marker": {
             "colorbar": {
              "outlinewidth": 0,
              "ticks": ""
             }
            },
            "type": "scattercarpet"
           }
          ],
          "scattergeo": [
           {
            "marker": {
             "colorbar": {
              "outlinewidth": 0,
              "ticks": ""
             }
            },
            "type": "scattergeo"
           }
          ],
          "scattergl": [
           {
            "marker": {
             "colorbar": {
              "outlinewidth": 0,
              "ticks": ""
             }
            },
            "type": "scattergl"
           }
          ],
          "scattermapbox": [
           {
            "marker": {
             "colorbar": {
              "outlinewidth": 0,
              "ticks": ""
             }
            },
            "type": "scattermapbox"
           }
          ],
          "scatterpolar": [
           {
            "marker": {
             "colorbar": {
              "outlinewidth": 0,
              "ticks": ""
             }
            },
            "type": "scatterpolar"
           }
          ],
          "scatterpolargl": [
           {
            "marker": {
             "colorbar": {
              "outlinewidth": 0,
              "ticks": ""
             }
            },
            "type": "scatterpolargl"
           }
          ],
          "scatterternary": [
           {
            "marker": {
             "colorbar": {
              "outlinewidth": 0,
              "ticks": ""
             }
            },
            "type": "scatterternary"
           }
          ],
          "surface": [
           {
            "colorbar": {
             "outlinewidth": 0,
             "ticks": ""
            },
            "colorscale": [
             [
              0,
              "#0d0887"
             ],
             [
              0.1111111111111111,
              "#46039f"
             ],
             [
              0.2222222222222222,
              "#7201a8"
             ],
             [
              0.3333333333333333,
              "#9c179e"
             ],
             [
              0.4444444444444444,
              "#bd3786"
             ],
             [
              0.5555555555555556,
              "#d8576b"
             ],
             [
              0.6666666666666666,
              "#ed7953"
             ],
             [
              0.7777777777777778,
              "#fb9f3a"
             ],
             [
              0.8888888888888888,
              "#fdca26"
             ],
             [
              1,
              "#f0f921"
             ]
            ],
            "type": "surface"
           }
          ],
          "table": [
           {
            "cells": {
             "fill": {
              "color": "#EBF0F8"
             },
             "line": {
              "color": "white"
             }
            },
            "header": {
             "fill": {
              "color": "#C8D4E3"
             },
             "line": {
              "color": "white"
             }
            },
            "type": "table"
           }
          ]
         },
         "layout": {
          "annotationdefaults": {
           "arrowcolor": "#2a3f5f",
           "arrowhead": 0,
           "arrowwidth": 1
          },
          "autotypenumbers": "strict",
          "coloraxis": {
           "colorbar": {
            "outlinewidth": 0,
            "ticks": ""
           }
          },
          "colorscale": {
           "diverging": [
            [
             0,
             "#8e0152"
            ],
            [
             0.1,
             "#c51b7d"
            ],
            [
             0.2,
             "#de77ae"
            ],
            [
             0.3,
             "#f1b6da"
            ],
            [
             0.4,
             "#fde0ef"
            ],
            [
             0.5,
             "#f7f7f7"
            ],
            [
             0.6,
             "#e6f5d0"
            ],
            [
             0.7,
             "#b8e186"
            ],
            [
             0.8,
             "#7fbc41"
            ],
            [
             0.9,
             "#4d9221"
            ],
            [
             1,
             "#276419"
            ]
           ],
           "sequential": [
            [
             0,
             "#0d0887"
            ],
            [
             0.1111111111111111,
             "#46039f"
            ],
            [
             0.2222222222222222,
             "#7201a8"
            ],
            [
             0.3333333333333333,
             "#9c179e"
            ],
            [
             0.4444444444444444,
             "#bd3786"
            ],
            [
             0.5555555555555556,
             "#d8576b"
            ],
            [
             0.6666666666666666,
             "#ed7953"
            ],
            [
             0.7777777777777778,
             "#fb9f3a"
            ],
            [
             0.8888888888888888,
             "#fdca26"
            ],
            [
             1,
             "#f0f921"
            ]
           ],
           "sequentialminus": [
            [
             0,
             "#0d0887"
            ],
            [
             0.1111111111111111,
             "#46039f"
            ],
            [
             0.2222222222222222,
             "#7201a8"
            ],
            [
             0.3333333333333333,
             "#9c179e"
            ],
            [
             0.4444444444444444,
             "#bd3786"
            ],
            [
             0.5555555555555556,
             "#d8576b"
            ],
            [
             0.6666666666666666,
             "#ed7953"
            ],
            [
             0.7777777777777778,
             "#fb9f3a"
            ],
            [
             0.8888888888888888,
             "#fdca26"
            ],
            [
             1,
             "#f0f921"
            ]
           ]
          },
          "colorway": [
           "#636efa",
           "#EF553B",
           "#00cc96",
           "#ab63fa",
           "#FFA15A",
           "#19d3f3",
           "#FF6692",
           "#B6E880",
           "#FF97FF",
           "#FECB52"
          ],
          "font": {
           "color": "#2a3f5f"
          },
          "geo": {
           "bgcolor": "white",
           "lakecolor": "white",
           "landcolor": "#E5ECF6",
           "showlakes": true,
           "showland": true,
           "subunitcolor": "white"
          },
          "hoverlabel": {
           "align": "left"
          },
          "hovermode": "closest",
          "mapbox": {
           "style": "light"
          },
          "paper_bgcolor": "white",
          "plot_bgcolor": "#E5ECF6",
          "polar": {
           "angularaxis": {
            "gridcolor": "white",
            "linecolor": "white",
            "ticks": ""
           },
           "bgcolor": "#E5ECF6",
           "radialaxis": {
            "gridcolor": "white",
            "linecolor": "white",
            "ticks": ""
           }
          },
          "scene": {
           "xaxis": {
            "backgroundcolor": "#E5ECF6",
            "gridcolor": "white",
            "gridwidth": 2,
            "linecolor": "white",
            "showbackground": true,
            "ticks": "",
            "zerolinecolor": "white"
           },
           "yaxis": {
            "backgroundcolor": "#E5ECF6",
            "gridcolor": "white",
            "gridwidth": 2,
            "linecolor": "white",
            "showbackground": true,
            "ticks": "",
            "zerolinecolor": "white"
           },
           "zaxis": {
            "backgroundcolor": "#E5ECF6",
            "gridcolor": "white",
            "gridwidth": 2,
            "linecolor": "white",
            "showbackground": true,
            "ticks": "",
            "zerolinecolor": "white"
           }
          },
          "shapedefaults": {
           "line": {
            "color": "#2a3f5f"
           }
          },
          "ternary": {
           "aaxis": {
            "gridcolor": "white",
            "linecolor": "white",
            "ticks": ""
           },
           "baxis": {
            "gridcolor": "white",
            "linecolor": "white",
            "ticks": ""
           },
           "bgcolor": "#E5ECF6",
           "caxis": {
            "gridcolor": "white",
            "linecolor": "white",
            "ticks": ""
           }
          },
          "title": {
           "x": 0.05
          },
          "xaxis": {
           "automargin": true,
           "gridcolor": "white",
           "linecolor": "white",
           "ticks": "",
           "title": {
            "standoff": 15
           },
           "zerolinecolor": "white",
           "zerolinewidth": 2
          },
          "yaxis": {
           "automargin": true,
           "gridcolor": "white",
           "linecolor": "white",
           "ticks": "",
           "title": {
            "standoff": 15
           },
           "zerolinecolor": "white",
           "zerolinewidth": 2
          }
         }
        },
        "title": {
         "text": "Prompt counts for Reviewer"
        },
        "xaxis": {
         "anchor": "y",
         "domain": [
          0,
          1
         ],
         "title": {
          "text": "Prompt"
         }
        },
        "yaxis": {
         "anchor": "x",
         "domain": [
          0,
          1
         ],
         "title": {
          "text": "Count"
         }
        }
       }
      }
     },
     "metadata": {},
     "output_type": "display_data"
    }
   ],
   "source": [
    "reviewer_action_counts = agent_reviewer.agent.action_counts\n",
    "reviewer_prompts = agent_reviewer.prompts\n",
    "prompt_counts_df = pd.DataFrame({\n",
    "    \"Prompt\": reviewer_prompts,\n",
    "    \"Count\": reviewer_action_counts\n",
    "})\n",
    "fig_2 = px.bar(\n",
    "    prompt_counts_df,\n",
    "    x=\"Prompt\",\n",
    "    y=\"Count\",\n",
    "    title=\"Prompt counts for Reviewer\"\n",
    ")\n",
    "fig_2.show()"
   ]
  }
 ],
 "metadata": {
  "kernelspec": {
   "display_name": "Python 3",
   "language": "python",
   "name": "python3"
  },
  "language_info": {
   "codemirror_mode": {
    "name": "ipython",
    "version": 3
   },
   "file_extension": ".py",
   "mimetype": "text/x-python",
   "name": "python",
   "nbconvert_exporter": "python",
   "pygments_lexer": "ipython3",
   "version": "3.11.1"
  }
 },
 "nbformat": 4,
 "nbformat_minor": 2
}
